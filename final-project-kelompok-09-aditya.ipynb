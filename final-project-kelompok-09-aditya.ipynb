{
 "cells": [
  {
   "cell_type": "markdown",
   "id": "1467c850",
   "metadata": {},
   "source": [
    "- Chairunisa Az Zahra Arifin\n",
    "- Oktaviani Nurlinda Sari\n",
    "\n",
    "Sumber Data: https://www.kaggle.com/datasets/barun2104/telecom-churn?datasetId=567482\n",
    "Problem: Classification"
   ]
  },
  {
   "cell_type": "markdown",
   "id": "1068a004",
   "metadata": {},
   "source": [
    "## Data 2 Customer Churn"
   ]
  },
  {
   "cell_type": "markdown",
   "id": "aa9672a4",
   "metadata": {},
   "source": [
    "## 1) Importing Data"
   ]
  },
  {
   "cell_type": "markdown",
   "id": "f60b3ce3",
   "metadata": {},
   "source": [
    "- Read csv data"
   ]
  },
  {
   "cell_type": "code",
   "execution_count": 1,
   "id": "72bd131a",
   "metadata": {},
   "outputs": [],
   "source": [
    "import pandas as pd"
   ]
  },
  {
   "cell_type": "code",
   "execution_count": 2,
   "id": "2fcfda17",
   "metadata": {},
   "outputs": [],
   "source": [
    "df=pd.read_csv(\"telecom_churn.csv\")"
   ]
  },
  {
   "cell_type": "markdown",
   "id": "d2eea4e9",
   "metadata": {},
   "source": [
    "## 2) Data Preparation"
   ]
  },
  {
   "cell_type": "markdown",
   "id": "72c8f36e",
   "metadata": {},
   "source": [
    "- Check header, column and shape of data\n",
    "- Check missing value\n",
    "- Check column types\n",
    "- Check outliers"
   ]
  },
  {
   "cell_type": "code",
   "execution_count": 3,
   "id": "59985834",
   "metadata": {},
   "outputs": [],
   "source": [
    "# Part 1: Check header, column and shape of data"
   ]
  },
  {
   "cell_type": "code",
   "execution_count": 4,
   "id": "db970fd7",
   "metadata": {},
   "outputs": [
    {
     "data": {
      "text/html": [
       "<div>\n",
       "<style scoped>\n",
       "    .dataframe tbody tr th:only-of-type {\n",
       "        vertical-align: middle;\n",
       "    }\n",
       "\n",
       "    .dataframe tbody tr th {\n",
       "        vertical-align: top;\n",
       "    }\n",
       "\n",
       "    .dataframe thead th {\n",
       "        text-align: right;\n",
       "    }\n",
       "</style>\n",
       "<table border=\"1\" class=\"dataframe\">\n",
       "  <thead>\n",
       "    <tr style=\"text-align: right;\">\n",
       "      <th></th>\n",
       "      <th>Churn</th>\n",
       "      <th>AccountWeeks</th>\n",
       "      <th>ContractRenewal</th>\n",
       "      <th>DataPlan</th>\n",
       "      <th>DataUsage</th>\n",
       "      <th>CustServCalls</th>\n",
       "      <th>DayMins</th>\n",
       "      <th>DayCalls</th>\n",
       "      <th>MonthlyCharge</th>\n",
       "      <th>OverageFee</th>\n",
       "      <th>RoamMins</th>\n",
       "    </tr>\n",
       "  </thead>\n",
       "  <tbody>\n",
       "    <tr>\n",
       "      <th>0</th>\n",
       "      <td>0</td>\n",
       "      <td>128</td>\n",
       "      <td>1</td>\n",
       "      <td>1</td>\n",
       "      <td>2.7</td>\n",
       "      <td>1</td>\n",
       "      <td>265.1</td>\n",
       "      <td>110</td>\n",
       "      <td>89.0</td>\n",
       "      <td>9.87</td>\n",
       "      <td>10.0</td>\n",
       "    </tr>\n",
       "    <tr>\n",
       "      <th>1</th>\n",
       "      <td>0</td>\n",
       "      <td>107</td>\n",
       "      <td>1</td>\n",
       "      <td>1</td>\n",
       "      <td>3.7</td>\n",
       "      <td>1</td>\n",
       "      <td>161.6</td>\n",
       "      <td>123</td>\n",
       "      <td>82.0</td>\n",
       "      <td>9.78</td>\n",
       "      <td>13.7</td>\n",
       "    </tr>\n",
       "    <tr>\n",
       "      <th>2</th>\n",
       "      <td>0</td>\n",
       "      <td>137</td>\n",
       "      <td>1</td>\n",
       "      <td>0</td>\n",
       "      <td>0.0</td>\n",
       "      <td>0</td>\n",
       "      <td>243.4</td>\n",
       "      <td>114</td>\n",
       "      <td>52.0</td>\n",
       "      <td>6.06</td>\n",
       "      <td>12.2</td>\n",
       "    </tr>\n",
       "    <tr>\n",
       "      <th>3</th>\n",
       "      <td>0</td>\n",
       "      <td>84</td>\n",
       "      <td>0</td>\n",
       "      <td>0</td>\n",
       "      <td>0.0</td>\n",
       "      <td>2</td>\n",
       "      <td>299.4</td>\n",
       "      <td>71</td>\n",
       "      <td>57.0</td>\n",
       "      <td>3.10</td>\n",
       "      <td>6.6</td>\n",
       "    </tr>\n",
       "    <tr>\n",
       "      <th>4</th>\n",
       "      <td>0</td>\n",
       "      <td>75</td>\n",
       "      <td>0</td>\n",
       "      <td>0</td>\n",
       "      <td>0.0</td>\n",
       "      <td>3</td>\n",
       "      <td>166.7</td>\n",
       "      <td>113</td>\n",
       "      <td>41.0</td>\n",
       "      <td>7.42</td>\n",
       "      <td>10.1</td>\n",
       "    </tr>\n",
       "  </tbody>\n",
       "</table>\n",
       "</div>"
      ],
      "text/plain": [
       "   Churn  AccountWeeks  ContractRenewal  DataPlan  DataUsage  CustServCalls  \\\n",
       "0      0           128                1         1        2.7              1   \n",
       "1      0           107                1         1        3.7              1   \n",
       "2      0           137                1         0        0.0              0   \n",
       "3      0            84                0         0        0.0              2   \n",
       "4      0            75                0         0        0.0              3   \n",
       "\n",
       "   DayMins  DayCalls  MonthlyCharge  OverageFee  RoamMins  \n",
       "0    265.1       110           89.0        9.87      10.0  \n",
       "1    161.6       123           82.0        9.78      13.7  \n",
       "2    243.4       114           52.0        6.06      12.2  \n",
       "3    299.4        71           57.0        3.10       6.6  \n",
       "4    166.7       113           41.0        7.42      10.1  "
      ]
     },
     "execution_count": 4,
     "metadata": {},
     "output_type": "execute_result"
    }
   ],
   "source": [
    "df.head()"
   ]
  },
  {
   "cell_type": "code",
   "execution_count": 5,
   "id": "711f6320",
   "metadata": {},
   "outputs": [
    {
     "data": {
      "text/plain": [
       "Index(['Churn', 'AccountWeeks', 'ContractRenewal', 'DataPlan', 'DataUsage',\n",
       "       'CustServCalls', 'DayMins', 'DayCalls', 'MonthlyCharge', 'OverageFee',\n",
       "       'RoamMins'],\n",
       "      dtype='object')"
      ]
     },
     "execution_count": 5,
     "metadata": {},
     "output_type": "execute_result"
    }
   ],
   "source": [
    "df.columns"
   ]
  },
  {
   "cell_type": "code",
   "execution_count": 6,
   "id": "b935e3fc",
   "metadata": {},
   "outputs": [
    {
     "data": {
      "text/plain": [
       "(3333, 11)"
      ]
     },
     "execution_count": 6,
     "metadata": {},
     "output_type": "execute_result"
    }
   ],
   "source": [
    "df.shape"
   ]
  },
  {
   "cell_type": "code",
   "execution_count": 7,
   "id": "93d5b440",
   "metadata": {},
   "outputs": [],
   "source": [
    "# Part 2: Checking Missing Value"
   ]
  },
  {
   "cell_type": "code",
   "execution_count": 8,
   "id": "93a23539",
   "metadata": {},
   "outputs": [
    {
     "data": {
      "text/plain": [
       "Churn              0\n",
       "AccountWeeks       0\n",
       "ContractRenewal    0\n",
       "DataPlan           0\n",
       "DataUsage          0\n",
       "CustServCalls      0\n",
       "DayMins            0\n",
       "DayCalls           0\n",
       "MonthlyCharge      0\n",
       "OverageFee         0\n",
       "RoamMins           0\n",
       "dtype: int64"
      ]
     },
     "execution_count": 8,
     "metadata": {},
     "output_type": "execute_result"
    }
   ],
   "source": [
    "df.isna().sum()"
   ]
  },
  {
   "cell_type": "code",
   "execution_count": 9,
   "id": "f67e3836",
   "metadata": {},
   "outputs": [],
   "source": [
    "# Part 3: Checking Column Types"
   ]
  },
  {
   "cell_type": "code",
   "execution_count": 10,
   "id": "f47a4a43",
   "metadata": {},
   "outputs": [
    {
     "name": "stdout",
     "output_type": "stream",
     "text": [
      "<class 'pandas.core.frame.DataFrame'>\n",
      "RangeIndex: 3333 entries, 0 to 3332\n",
      "Data columns (total 11 columns):\n",
      " #   Column           Non-Null Count  Dtype  \n",
      "---  ------           --------------  -----  \n",
      " 0   Churn            3333 non-null   int64  \n",
      " 1   AccountWeeks     3333 non-null   int64  \n",
      " 2   ContractRenewal  3333 non-null   int64  \n",
      " 3   DataPlan         3333 non-null   int64  \n",
      " 4   DataUsage        3333 non-null   float64\n",
      " 5   CustServCalls    3333 non-null   int64  \n",
      " 6   DayMins          3333 non-null   float64\n",
      " 7   DayCalls         3333 non-null   int64  \n",
      " 8   MonthlyCharge    3333 non-null   float64\n",
      " 9   OverageFee       3333 non-null   float64\n",
      " 10  RoamMins         3333 non-null   float64\n",
      "dtypes: float64(5), int64(6)\n",
      "memory usage: 286.6 KB\n"
     ]
    }
   ],
   "source": [
    "df.info()"
   ]
  },
  {
   "cell_type": "markdown",
   "id": "a3d92555",
   "metadata": {},
   "source": [
    "Data type 'int64' berarti kolom tersebut berisi bilangan bulat, tanpa desimal. Sedangkan, data type 'float64' berarti kolom tersebut berisi bilangan desimal. \n",
    "\n",
    "Sepertinya dataset kita baik-baik saja. Semua kolom tidak memiliki `missing value` (Jika ada missing value, pasti ada kolom yang tidak tertulis 3333 non-null).\n",
    "\n",
    "Diketahui semua kolom merupakan kolom `numerik`, sehingga bisa saling dibandingkan."
   ]
  },
  {
   "cell_type": "code",
   "execution_count": 11,
   "id": "3821ee93",
   "metadata": {},
   "outputs": [],
   "source": [
    "# Part 4: Checking Outliers"
   ]
  },
  {
   "cell_type": "code",
   "execution_count": 12,
   "id": "3cd61e23",
   "metadata": {
    "scrolled": false
   },
   "outputs": [
    {
     "name": "stdout",
     "output_type": "stream",
     "text": [
      "\n",
      "Persebaran data sebelum ditangani Outlier: \n",
      "       AccountWeeks      DayMins     DayCalls  MonthlyCharge   OverageFee  \\\n",
      "count   3333.000000  3333.000000  3333.000000    3333.000000  3333.000000   \n",
      "mean     101.064806   179.775098   100.435644      56.305161    10.051488   \n",
      "std       39.822106    54.467389    20.069084      16.426032     2.535712   \n",
      "min        1.000000     0.000000     0.000000      14.000000     0.000000   \n",
      "25%       74.000000   143.700000    87.000000      45.000000     8.330000   \n",
      "50%      101.000000   179.400000   101.000000      53.500000    10.070000   \n",
      "75%      127.000000   216.400000   114.000000      66.200000    11.770000   \n",
      "max      243.000000   350.800000   165.000000     111.300000    18.190000   \n",
      "\n",
      "          RoamMins  \n",
      "count  3333.000000  \n",
      "mean     10.237294  \n",
      "std       2.791840  \n",
      "min       0.000000  \n",
      "25%       8.500000  \n",
      "50%      10.300000  \n",
      "75%      12.100000  \n",
      "max      20.000000  \n"
     ]
    },
    {
     "data": {
      "image/png": "[encoded data removed]",
      "text/plain": [
       "<Figure size 432x288 with 1 Axes>"
      ]
     },
     "metadata": {
      "needs_background": "light"
     },
     "output_type": "display_data"
    },
    {
     "data": {
      "image/png": "[encoded data removed]",
      "text/plain": [
       "<Figure size 432x288 with 1 Axes>"
      ]
     },
     "metadata": {
      "needs_background": "light"
     },
     "output_type": "display_data"
    },
    {
     "data": {
      "image/png": "[encoded data removed]",
      "text/plain": [
       "<Figure size 432x288 with 1 Axes>"
      ]
     },
     "metadata": {
      "needs_background": "light"
     },
     "output_type": "display_data"
    },
    {
     "data": {
      "image/png": "[encoded data removed]",
      "text/plain": [
       "<Figure size 432x288 with 1 Axes>"
      ]
     },
     "metadata": {
      "needs_background": "light"
     },
     "output_type": "display_data"
    },
    {
     "data": {
      "image/png": "[encoded data removed]",
      "text/plain": [
       "<Figure size 432x288 with 1 Axes>"
      ]
     },
     "metadata": {
      "needs_background": "light"
     },
     "output_type": "display_data"
    },
    {
     "data": {
      "image/png": "[encoded data removed]",
      "text/plain": [
       "<Figure size 432x288 with 1 Axes>"
      ]
     },
     "metadata": {
      "needs_background": "light"
     },
     "output_type": "display_data"
    }
   ],
   "source": [
    "print('\\nPersebaran data sebelum ditangani Outlier: ')\n",
    "print(df[['AccountWeeks', 'DayMins','DayCalls','MonthlyCharge', 'OverageFee','RoamMins']].describe())\n",
    "# Creating Box Plot\n",
    "import matplotlib.pyplot as plt\n",
    "import seaborn as sns\n",
    "# Masukkan variable\n",
    "plt.figure() # untuk membuat figure baru\n",
    "sns.boxplot(x=df['AccountWeeks'])\n",
    "plt.show()\n",
    "plt.figure() # untuk membuat figure baru\n",
    "sns.boxplot(x=df['DayMins'])\n",
    "plt.show()\n",
    "plt.figure() # untuk membuat figure baru\n",
    "sns.boxplot(x=df['DayCalls'])\n",
    "plt.show()\n",
    "plt.figure() # untuk membuat figure baru\n",
    "sns.boxplot(x=df['MonthlyCharge'])\n",
    "plt.show()\n",
    "plt.figure() # untuk membuat figure baru\n",
    "sns.boxplot(x=df['OverageFee'])\n",
    "plt.show()\n",
    "plt.figure() # untuk membuat figure baru\n",
    "sns.boxplot(x=df['RoamMins'])\n",
    "plt.show()"
   ]
  },
  {
   "cell_type": "code",
   "execution_count": 13,
   "id": "743f3176",
   "metadata": {
    "scrolled": true
   },
   "outputs": [
    {
     "name": "stdout",
     "output_type": "stream",
     "text": [
      "Nilai Maximum dari masing-masing Variable adalah: \n",
      "AccountWeeks     206.50\n",
      "DayMins          325.45\n",
      "DayCalls         154.50\n",
      "MonthlyCharge     98.00\n",
      "OverageFee        16.93\n",
      "RoamMins          17.50\n",
      "dtype: float64\n",
      "\n",
      "Nilai Minimum dari masing-masing Variable adalah: \n",
      "AccountWeeks     -5.50\n",
      "DayMins          34.65\n",
      "DayCalls         46.50\n",
      "MonthlyCharge    13.20\n",
      "OverageFee        3.17\n",
      "RoamMins          3.10\n",
      "dtype: float64\n",
      "\n",
      "Persebaran data setelah ditangani Outlier: \n",
      "       AccountWeeks      DayMins     DayCalls  MonthlyCharge   OverageFee  \\\n",
      "count   3333.000000  3333.000000  3333.000000    3333.000000  3333.000000   \n",
      "mean     101.003300   179.816157   100.473597      56.246655    10.052934   \n",
      "std       39.644112    54.152190    19.863740      16.263174     2.520271   \n",
      "min        1.000000    34.650000    46.500000      14.000000     3.170000   \n",
      "25%       74.000000   143.700000    87.000000      45.000000     8.330000   \n",
      "50%      101.000000   179.400000   101.000000      53.500000    10.070000   \n",
      "75%      127.000000   216.400000   114.000000      66.200000    11.770000   \n",
      "max      206.500000   325.450000   154.500000      98.000000    16.930000   \n",
      "\n",
      "          RoamMins  \n",
      "count  3333.000000  \n",
      "mean     10.254575  \n",
      "std       2.721007  \n",
      "min       3.100000  \n",
      "25%       8.500000  \n",
      "50%      10.300000  \n",
      "75%      12.100000  \n",
      "max      17.500000  \n"
     ]
    },
    {
     "name": "stderr",
     "output_type": "stream",
     "text": [
      "C:\\Users\\Lenovo\\AppData\\Local\\Temp/ipykernel_22600/3421456545.py:11: FutureWarning: Automatic reindexing on DataFrame vs Series comparisons is deprecated and will raise ValueError in a future version.  Do `left, right = left.align(right, axis=1, copy=False)` before e.g. `left == right`\n",
      "  more_than = (df > maximum)\n",
      "C:\\Users\\Lenovo\\AppData\\Local\\Temp/ipykernel_22600/3421456545.py:12: FutureWarning: Automatic reindexing on DataFrame vs Series comparisons is deprecated and will raise ValueError in a future version.  Do `left, right = left.align(right, axis=1, copy=False)` before e.g. `left == right`\n",
      "  lower_than = (df < minimum)\n"
     ]
    }
   ],
   "source": [
    "# Handling with IQR\n",
    "Q1 = (df[['AccountWeeks','DayMins','DayCalls','MonthlyCharge', 'OverageFee','RoamMins']]).quantile(0.25)\n",
    "Q3 = (df[['AccountWeeks','DayMins','DayCalls','MonthlyCharge', 'OverageFee','RoamMins']]).quantile(0.75)\n",
    "IQR = Q3 - Q1\n",
    "maximum = Q3 + (1.5*IQR)\n",
    "print('Nilai Maximum dari masing-masing Variable adalah: ')\n",
    "print(maximum)\n",
    "minimum = Q1 - (1.5*IQR)\n",
    "print('\\nNilai Minimum dari masing-masing Variable adalah: ')\n",
    "print(minimum)\n",
    "more_than = (df > maximum)\n",
    "lower_than = (df < minimum)\n",
    "df = df.mask(more_than, maximum, axis=1)\n",
    "df = df.mask(lower_than, minimum, axis=1)\n",
    "print('\\nPersebaran data setelah ditangani Outlier: ')\n",
    "print(df[['AccountWeeks','DayMins','DayCalls','MonthlyCharge', 'OverageFee','RoamMins']].describe())"
   ]
  },
  {
   "cell_type": "markdown",
   "id": "5918d41c",
   "metadata": {},
   "source": [
    "Kemudian nilai outlier tersebut ditangani dengan cara merubah nilainya ke nilai Maximum & Minimum dari interquartile range (IQR). Setelah di tangani outliernya, dan dilihat perseberan data nya, terlihat sudah tidak ada lagi nilai yang outlier."
   ]
  },
  {
   "cell_type": "markdown",
   "id": "4c68da31",
   "metadata": {},
   "source": [
    "## 3) Future Engineering"
   ]
  },
  {
   "cell_type": "markdown",
   "id": "12dcd2c3",
   "metadata": {},
   "source": [
    "- X-Y Split\n",
    "- Train Test Split"
   ]
  },
  {
   "cell_type": "code",
   "execution_count": 14,
   "id": "db6ed930",
   "metadata": {},
   "outputs": [],
   "source": [
    "# Part 1: X-Y Split"
   ]
  },
  {
   "cell_type": "code",
   "execution_count": 15,
   "id": "c3ddfa95",
   "metadata": {},
   "outputs": [],
   "source": [
    "feature = ['AccountWeeks', 'ContractRenewal', 'DataPlan', 'DataUsage', 'CustServCalls', 'DayMins', 'DayCalls', 'MonthlyCharge', 'OverageFee', 'RoamMins']"
   ]
  },
  {
   "cell_type": "code",
   "execution_count": 16,
   "id": "82f6ae14",
   "metadata": {},
   "outputs": [],
   "source": [
    "y = df['Churn']\n",
    "x = df[['AccountWeeks', 'ContractRenewal', 'DataPlan', 'DataUsage', 'CustServCalls', 'DayMins', 'DayCalls', 'MonthlyCharge', 'OverageFee', 'RoamMins']]"
   ]
  },
  {
   "cell_type": "code",
   "execution_count": 17,
   "id": "891c06bf",
   "metadata": {},
   "outputs": [
    {
     "data": {
      "text/plain": [
       "[(3333,), (3333, 10)]"
      ]
     },
     "execution_count": 17,
     "metadata": {},
     "output_type": "execute_result"
    }
   ],
   "source": [
    "row = [0 for x in range(0,2)]\n",
    "row[0] = y.shape\n",
    "row[1] = x.shape\n",
    "row"
   ]
  },
  {
   "cell_type": "code",
   "execution_count": 18,
   "id": "cab7611a",
   "metadata": {},
   "outputs": [],
   "source": [
    "# Part 2: Train Test Split"
   ]
  },
  {
   "cell_type": "code",
   "execution_count": 19,
   "id": "4548a68b",
   "metadata": {},
   "outputs": [],
   "source": [
    "from sklearn.model_selection import train_test_split"
   ]
  },
  {
   "cell_type": "code",
   "execution_count": 20,
   "id": "bf231885",
   "metadata": {},
   "outputs": [],
   "source": [
    "# defining feature matrix(X) and response vector(y)\n",
    "X = df.loc[:, df.columns != 'Churn']\n",
    "y = df[\"Churn\"]"
   ]
  },
  {
   "cell_type": "code",
   "execution_count": 21,
   "id": "ae9f412d",
   "metadata": {},
   "outputs": [],
   "source": [
    "# splitting X and y into training and testing sets\n",
    "from sklearn.model_selection import train_test_split\n",
    "X_train, X_test, y_train, y_test = train_test_split(X, y, test_size=0.4,\n",
    "                                                    random_state=1)"
   ]
  },
  {
   "cell_type": "code",
   "execution_count": 22,
   "id": "463eb97e",
   "metadata": {},
   "outputs": [
    {
     "name": "stdout",
     "output_type": "stream",
     "text": [
      "(1999, 10) (1334, 10) (1999,) (1334,)\n"
     ]
    }
   ],
   "source": [
    "print(X_train.shape, X_test.shape, y_train.shape, y_test.shape)"
   ]
  },
  {
   "cell_type": "markdown",
   "id": "d17d8e1f",
   "metadata": {},
   "source": [
    "## 4) Exploratory Data Analysis"
   ]
  },
  {
   "cell_type": "markdown",
   "id": "5f847c4c",
   "metadata": {},
   "source": [
    "- Check distribution for each feature\n",
    "- Check the proportion of 0 and 1 in Churn label\n",
    "- Check data composition in train and test data"
   ]
  },
  {
   "cell_type": "code",
   "execution_count": 23,
   "id": "b4f038f1",
   "metadata": {},
   "outputs": [],
   "source": [
    "# Part 1: Check distribution for each feature"
   ]
  },
  {
   "cell_type": "code",
   "execution_count": 24,
   "id": "8a17e70b",
   "metadata": {},
   "outputs": [],
   "source": [
    "import seaborn as sns\n",
    "sns.set_style(\"whitegrid\")\n",
    "%matplotlib inline\n",
    "import pandas as pd\n",
    "import scipy.stats as stats\n",
    "import researchpy as rp\n",
    "import statsmodels.api as sm\n",
    "from statsmodels.formula.api import ols  \n",
    "import matplotlib.pyplot as plt\n",
    "import numpy as np"
   ]
  },
  {
   "cell_type": "code",
   "execution_count": 25,
   "id": "2755a205",
   "metadata": {},
   "outputs": [
    {
     "data": {
      "text/html": [
       "<div>\n",
       "<style scoped>\n",
       "    .dataframe tbody tr th:only-of-type {\n",
       "        vertical-align: middle;\n",
       "    }\n",
       "\n",
       "    .dataframe tbody tr th {\n",
       "        vertical-align: top;\n",
       "    }\n",
       "\n",
       "    .dataframe thead th {\n",
       "        text-align: right;\n",
       "    }\n",
       "</style>\n",
       "<table border=\"1\" class=\"dataframe\">\n",
       "  <thead>\n",
       "    <tr style=\"text-align: right;\">\n",
       "      <th></th>\n",
       "      <th>AccountWeeks</th>\n",
       "      <th>ContractRenewal</th>\n",
       "      <th>DataPlan</th>\n",
       "      <th>DataUsage</th>\n",
       "      <th>CustServCalls</th>\n",
       "      <th>DayMins</th>\n",
       "      <th>DayCalls</th>\n",
       "      <th>MonthlyCharge</th>\n",
       "      <th>OverageFee</th>\n",
       "      <th>RoamMins</th>\n",
       "      <th>Churn</th>\n",
       "    </tr>\n",
       "  </thead>\n",
       "  <tbody>\n",
       "    <tr>\n",
       "      <th>1210</th>\n",
       "      <td>48.0</td>\n",
       "      <td>1</td>\n",
       "      <td>0</td>\n",
       "      <td>0.2</td>\n",
       "      <td>1</td>\n",
       "      <td>275.2</td>\n",
       "      <td>67.0</td>\n",
       "      <td>65.0</td>\n",
       "      <td>9.01</td>\n",
       "      <td>7.9</td>\n",
       "      <td>0</td>\n",
       "    </tr>\n",
       "    <tr>\n",
       "      <th>441</th>\n",
       "      <td>99.0</td>\n",
       "      <td>1</td>\n",
       "      <td>0</td>\n",
       "      <td>0.0</td>\n",
       "      <td>0</td>\n",
       "      <td>155.3</td>\n",
       "      <td>93.0</td>\n",
       "      <td>49.0</td>\n",
       "      <td>13.29</td>\n",
       "      <td>12.4</td>\n",
       "      <td>0</td>\n",
       "    </tr>\n",
       "    <tr>\n",
       "      <th>3052</th>\n",
       "      <td>103.0</td>\n",
       "      <td>1</td>\n",
       "      <td>0</td>\n",
       "      <td>0.0</td>\n",
       "      <td>2</td>\n",
       "      <td>129.3</td>\n",
       "      <td>103.0</td>\n",
       "      <td>40.0</td>\n",
       "      <td>10.14</td>\n",
       "      <td>12.9</td>\n",
       "      <td>0</td>\n",
       "    </tr>\n",
       "    <tr>\n",
       "      <th>1827</th>\n",
       "      <td>95.0</td>\n",
       "      <td>1</td>\n",
       "      <td>0</td>\n",
       "      <td>0.0</td>\n",
       "      <td>2</td>\n",
       "      <td>167.6</td>\n",
       "      <td>96.0</td>\n",
       "      <td>44.0</td>\n",
       "      <td>8.80</td>\n",
       "      <td>13.4</td>\n",
       "      <td>0</td>\n",
       "    </tr>\n",
       "    <tr>\n",
       "      <th>689</th>\n",
       "      <td>71.0</td>\n",
       "      <td>1</td>\n",
       "      <td>0</td>\n",
       "      <td>0.0</td>\n",
       "      <td>1</td>\n",
       "      <td>277.5</td>\n",
       "      <td>104.0</td>\n",
       "      <td>59.0</td>\n",
       "      <td>6.59</td>\n",
       "      <td>8.2</td>\n",
       "      <td>0</td>\n",
       "    </tr>\n",
       "  </tbody>\n",
       "</table>\n",
       "</div>"
      ],
      "text/plain": [
       "      AccountWeeks  ContractRenewal  DataPlan  DataUsage  CustServCalls  \\\n",
       "1210          48.0                1         0        0.2              1   \n",
       "441           99.0                1         0        0.0              0   \n",
       "3052         103.0                1         0        0.0              2   \n",
       "1827          95.0                1         0        0.0              2   \n",
       "689           71.0                1         0        0.0              1   \n",
       "\n",
       "      DayMins  DayCalls  MonthlyCharge  OverageFee  RoamMins  Churn  \n",
       "1210    275.2      67.0           65.0        9.01       7.9      0  \n",
       "441     155.3      93.0           49.0       13.29      12.4      0  \n",
       "3052    129.3     103.0           40.0       10.14      12.9      0  \n",
       "1827    167.6      96.0           44.0        8.80      13.4      0  \n",
       "689     277.5     104.0           59.0        6.59       8.2      0  "
      ]
     },
     "execution_count": 25,
     "metadata": {},
     "output_type": "execute_result"
    }
   ],
   "source": [
    "data_eda = X_train.join(y_train, how='outer')\n",
    "data_eda.head()"
   ]
  },
  {
   "cell_type": "code",
   "execution_count": 26,
   "id": "db85544e",
   "metadata": {},
   "outputs": [],
   "source": [
    "col_num = list(X_train[feature])"
   ]
  },
  {
   "cell_type": "code",
   "execution_count": 27,
   "id": "c7c999cd",
   "metadata": {},
   "outputs": [],
   "source": [
    "df_num=data_eda[col_num+['Churn']]\n",
    "for col in col_num:\n",
    "    try:\n",
    "        df_num[col]=df_num[col].astype(float)\n",
    "    except:\n",
    "        print(col)"
   ]
  },
  {
   "cell_type": "code",
   "execution_count": 28,
   "id": "64c46b55",
   "metadata": {},
   "outputs": [],
   "source": [
    "df_num[col] = df_num[col].apply(pd.to_numeric, downcast='float', errors='coerce')"
   ]
  },
  {
   "cell_type": "code",
   "execution_count": 29,
   "id": "f3edfcb4",
   "metadata": {},
   "outputs": [],
   "source": [
    "for col in col_num:\n",
    "#     df_num[col]=df_num[col].fillna(np.median(df_num[~(df_num[col].isna())][col]))\n",
    "    df_num[col]=df_num[col].fillna(0)"
   ]
  },
  {
   "cell_type": "code",
   "execution_count": 30,
   "id": "3dfaa172",
   "metadata": {},
   "outputs": [
    {
     "name": "stdout",
     "output_type": "stream",
     "text": [
      "F_onewayResult(statistic=1.0755365325768425, pvalue=0.29982377094396895)\n",
      "F_onewayResult(statistic=131.68763435711486, pvalue=1.447018431272085e-29)\n",
      "F_onewayResult(statistic=21.459043565794847, pvalue=3.847765840045636e-06)\n",
      "F_onewayResult(statistic=17.105551539431133, pvalue=3.682398716223948e-05)\n",
      "F_onewayResult(statistic=114.62708765600594, pvalue=4.762718238948339e-26)\n",
      "F_onewayResult(statistic=97.82157422043045, pvalue=1.4959110946849991e-22)\n",
      "F_onewayResult(statistic=0.8689212998342508, pvalue=0.35136679182149244)\n",
      "F_onewayResult(statistic=9.556569023308477, pvalue=0.0020198712260226935)\n",
      "F_onewayResult(statistic=10.766395709552482, pvalue=0.0010513991133399056)\n",
      "F_onewayResult(statistic=4.911178922884725, pvalue=0.0267957703115196)\n"
     ]
    }
   ],
   "source": [
    "for col in col_num:\n",
    "    df2=df_num[[col,'Churn']]\n",
    "    res=stats.f_oneway(df2[df2.Churn==1][col],\n",
    "                   df2[df2.Churn==0][col])\n",
    "    print(res)"
   ]
  },
  {
   "cell_type": "code",
   "execution_count": 31,
   "id": "81ca2c69",
   "metadata": {},
   "outputs": [],
   "source": [
    "# Part 2: Check the proportion of 0 and 1 in Churn label"
   ]
  },
  {
   "cell_type": "code",
   "execution_count": 32,
   "id": "a403e4d6",
   "metadata": {},
   "outputs": [
    {
     "data": {
      "text/plain": [
       "0    2850\n",
       "1     483\n",
       "Name: Churn, dtype: int64"
      ]
     },
     "execution_count": 32,
     "metadata": {},
     "output_type": "execute_result"
    }
   ],
   "source": [
    "df[\"Churn\"].value_counts()"
   ]
  },
  {
   "cell_type": "code",
   "execution_count": 33,
   "id": "7efbef1f",
   "metadata": {},
   "outputs": [
    {
     "name": "stderr",
     "output_type": "stream",
     "text": [
      "C:\\Users\\Lenovo\\anaconda3\\lib\\site-packages\\seaborn\\_decorators.py:36: FutureWarning: Pass the following variable as a keyword arg: x. From version 0.12, the only valid positional argument will be `data`, and passing other arguments without an explicit keyword will result in an error or misinterpretation.\n",
      "  warnings.warn(\n"
     ]
    },
    {
     "data": {
      "image/png": "[encoded data removed]",
      "text/plain": [
       "<Figure size 432x288 with 1 Axes>"
      ]
     },
     "metadata": {
      "needs_background": "light"
     },
     "output_type": "display_data"
    }
   ],
   "source": [
    "import seaborn as sns\n",
    "sns.countplot(df[\"Churn\"])\n",
    "\n",
    "plt.title('Diagram Label Proportion (Original)')\n",
    "plt.show() "
   ]
  },
  {
   "cell_type": "code",
   "execution_count": 34,
   "id": "fbf74dca",
   "metadata": {},
   "outputs": [
    {
     "data": {
      "image/png": "[encoded data removed]",
      "text/plain": [
       "<Figure size 432x288 with 1 Axes>"
      ]
     },
     "metadata": {},
     "output_type": "display_data"
    }
   ],
   "source": [
    "fig = plt.figure() \n",
    "ax = fig.add_axes([0,0,1,1]) \n",
    "ax.axis('equal') \n",
    "labels = ['No','Yes'] \n",
    "churn = df.Churn.value_counts() \n",
    "ax.pie(churn, labels=labels, autopct='%.0f%%')\n",
    "\n",
    "plt.title('Pie Chart Label Proportion (Original)')\n",
    "plt.show() "
   ]
  },
  {
   "cell_type": "markdown",
   "id": "eda9478d",
   "metadata": {},
   "source": [
    "Berdasarkan pie chart di atas, dapat disimpulkan bahwa sebaran data secara mayoritas customer tidak melakukan Churn, dengan detail Churn sebanyak 14% dan No Churn sebanyak 86%."
   ]
  },
  {
   "cell_type": "code",
   "execution_count": 35,
   "id": "9139497d",
   "metadata": {},
   "outputs": [],
   "source": [
    "# Part 3: Check data composition in train and test data"
   ]
  },
  {
   "cell_type": "code",
   "execution_count": 36,
   "id": "831344c9",
   "metadata": {},
   "outputs": [],
   "source": [
    "data_train = X_train.join(y_train, how='outer')\n",
    "data_test = X_test.join(y_test, how='outer')"
   ]
  },
  {
   "cell_type": "code",
   "execution_count": 37,
   "id": "386d9266",
   "metadata": {},
   "outputs": [
    {
     "name": "stdout",
     "output_type": "stream",
     "text": [
      "Class 0: 1714\n",
      "Class 1: 285\n",
      "Proportion: 6.01 : 1\n"
     ]
    },
    {
     "data": {
      "image/png": "[encoded data removed]",
      "text/plain": [
       "<Figure size 432x288 with 1 Axes>"
      ]
     },
     "metadata": {
      "needs_background": "light"
     },
     "output_type": "display_data"
    }
   ],
   "source": [
    "import numpy as np\n",
    "import pandas as pd\n",
    "\n",
    "target_count = data_train.Churn.value_counts()\n",
    "print('Class 0:', target_count[0])\n",
    "print('Class 1:', target_count[1])\n",
    "print('Proportion:', round(target_count[0] / target_count[1], 2), ': 1')\n",
    "\n",
    "target_count.plot(kind='bar', title='Data Train Composition (Churn)');"
   ]
  },
  {
   "cell_type": "code",
   "execution_count": 38,
   "id": "5b2cd8cd",
   "metadata": {
    "scrolled": false
   },
   "outputs": [
    {
     "name": "stdout",
     "output_type": "stream",
     "text": [
      "Class 0: 1136\n",
      "Class 1: 198\n",
      "Proportion: 5.74 : 1\n"
     ]
    },
    {
     "data": {
      "image/png": "[encoded data removed]",
      "text/plain": [
       "<Figure size 432x288 with 1 Axes>"
      ]
     },
     "metadata": {
      "needs_background": "light"
     },
     "output_type": "display_data"
    }
   ],
   "source": [
    "import numpy as np\n",
    "import pandas as pd\n",
    "\n",
    "target_count = data_test.Churn.value_counts()\n",
    "print('Class 0:', target_count[0])\n",
    "print('Class 1:', target_count[1])\n",
    "print('Proportion:', round(target_count[0] / target_count[1], 2), ': 1')\n",
    "\n",
    "target_count.plot(kind='bar', title='Data Test Composition (Churn)');"
   ]
  },
  {
   "cell_type": "markdown",
   "id": "6ed1a916",
   "metadata": {},
   "source": [
    "### Handling the imbalanced class distribution"
   ]
  },
  {
   "cell_type": "markdown",
   "id": "551849cf",
   "metadata": {},
   "source": [
    "Data diketahui imbalance, how to handle? kami menggunakan teknik resampling `oversampling`"
   ]
  },
  {
   "cell_type": "code",
   "execution_count": 39,
   "id": "f1560298",
   "metadata": {},
   "outputs": [],
   "source": [
    "from sklearn.utils import resample\n",
    "\n",
    "#create two different dataframe of majority and minority class \n",
    "df_majority = df[(df['Churn']==0)] \n",
    "df_minority = df[(df['Churn']==1)] \n",
    "# upsample minority class\n",
    "df_minority_upsampled = resample(df_minority, \n",
    "                                 replace=True,    # sample with replacement\n",
    "                                 n_samples= 2850, # to match majority class\n",
    "                                 random_state=42)  # reproducible results\n",
    "# Combine majority class with upsampled minority class\n",
    "df_upsampled = pd.concat([df_minority_upsampled, df_majority])"
   ]
  },
  {
   "cell_type": "code",
   "execution_count": 40,
   "id": "da1efb7f",
   "metadata": {},
   "outputs": [],
   "source": [
    "# Part 2: Train Test Split"
   ]
  },
  {
   "cell_type": "code",
   "execution_count": 41,
   "id": "2e4204d4",
   "metadata": {},
   "outputs": [],
   "source": [
    "# defining feature matrix(X) and response vector(y)\n",
    "X2 = df_upsampled.loc[:, df.columns != 'Churn']\n",
    "y2 = df_upsampled[\"Churn\"]"
   ]
  },
  {
   "cell_type": "code",
   "execution_count": 42,
   "id": "8a7c8a25",
   "metadata": {},
   "outputs": [],
   "source": [
    "# splitting X and y into training and testing sets\n",
    "from sklearn.model_selection import train_test_split\n",
    "X2_train, X2_test, y2_train, y2_test = train_test_split(X2, y2, test_size=0.4,\n",
    "                                                    random_state=1)"
   ]
  },
  {
   "cell_type": "code",
   "execution_count": 43,
   "id": "5653c81d",
   "metadata": {},
   "outputs": [
    {
     "name": "stdout",
     "output_type": "stream",
     "text": [
      "(3420, 10) (2280, 10) (3420,) (2280,)\n"
     ]
    }
   ],
   "source": [
    "print(X2_train.shape, X2_test.shape, y2_train.shape, y2_test.shape)"
   ]
  },
  {
   "cell_type": "code",
   "execution_count": 44,
   "id": "e85d1417",
   "metadata": {
    "scrolled": true
   },
   "outputs": [
    {
     "data": {
      "text/plain": [
       "1    2850\n",
       "0    2850\n",
       "Name: Churn, dtype: int64"
      ]
     },
     "execution_count": 44,
     "metadata": {},
     "output_type": "execute_result"
    }
   ],
   "source": [
    "df_upsampled[\"Churn\"].value_counts()"
   ]
  },
  {
   "cell_type": "code",
   "execution_count": 45,
   "id": "42a8ed3f",
   "metadata": {
    "scrolled": false
   },
   "outputs": [
    {
     "name": "stderr",
     "output_type": "stream",
     "text": [
      "C:\\Users\\Lenovo\\anaconda3\\lib\\site-packages\\seaborn\\_decorators.py:36: FutureWarning: Pass the following variable as a keyword arg: x. From version 0.12, the only valid positional argument will be `data`, and passing other arguments without an explicit keyword will result in an error or misinterpretation.\n",
      "  warnings.warn(\n"
     ]
    },
    {
     "data": {
      "image/png": "[encoded data removed]",
      "text/plain": [
       "<Figure size 432x288 with 1 Axes>"
      ]
     },
     "metadata": {
      "needs_background": "light"
     },
     "output_type": "display_data"
    }
   ],
   "source": [
    "sns.countplot(df_upsampled[\"Churn\"])\n",
    "\n",
    "plt.title('Diagram Label Proportion (OverSampling)')\n",
    "plt.show() "
   ]
  },
  {
   "cell_type": "markdown",
   "id": "16372bfe",
   "metadata": {},
   "source": [
    "Berdasarkan diagram di atas, dapat disimpulkan bahwa sebaran data customer yang tidak melakukan Churn dengan yang Churn sudah balance setelah dilakukan oversampling."
   ]
  },
  {
   "cell_type": "markdown",
   "id": "2fb5c3af",
   "metadata": {},
   "source": [
    "## 5) Building Model"
   ]
  },
  {
   "cell_type": "markdown",
   "id": "ac6dd1c5",
   "metadata": {},
   "source": [
    "- Import all package & create function for modelling\n",
    "- Model performance in data train\n",
    "- Model performance in data test\n",
    "- Evaluate model through test data"
   ]
  },
  {
   "cell_type": "code",
   "execution_count": 46,
   "id": "95dd7230",
   "metadata": {},
   "outputs": [],
   "source": [
    "from sklearn.metrics import confusion_matrix, classification_report"
   ]
  },
  {
   "cell_type": "markdown",
   "id": "507211cb",
   "metadata": {},
   "source": [
    "### 5.1 Model machine learning yang akan digunakan yaitu Logistic Regression."
   ]
  },
  {
   "cell_type": "code",
   "execution_count": 47,
   "id": "f9aff9b7",
   "metadata": {},
   "outputs": [],
   "source": [
    "# Part 1: Import all package & create function for modelling"
   ]
  },
  {
   "cell_type": "code",
   "execution_count": 48,
   "id": "20d9c38d",
   "metadata": {},
   "outputs": [
    {
     "name": "stdout",
     "output_type": "stream",
     "text": [
      "Model Logistic Regression yang terbentuk adalah: \n",
      " LogisticRegression()\n"
     ]
    },
    {
     "name": "stderr",
     "output_type": "stream",
     "text": [
      "C:\\Users\\Lenovo\\anaconda3\\lib\\site-packages\\sklearn\\linear_model\\_logistic.py:444: ConvergenceWarning: lbfgs failed to converge (status=1):\n",
      "STOP: TOTAL NO. of ITERATIONS REACHED LIMIT.\n",
      "\n",
      "Increase the number of iterations (max_iter) or scale the data as shown in:\n",
      "    https://scikit-learn.org/stable/modules/preprocessing.html\n",
      "Please also refer to the documentation for alternative solver options:\n",
      "    https://scikit-learn.org/stable/modules/linear_model.html#logistic-regression\n",
      "  n_iter_i = _check_optimize_result(\n"
     ]
    }
   ],
   "source": [
    "from sklearn.linear_model import LogisticRegression\n",
    "log_model = LogisticRegression().fit(X2_train, y2_train) \n",
    "print('Model Logistic Regression yang terbentuk adalah: \\n',log_model)"
   ]
  },
  {
   "cell_type": "code",
   "execution_count": 49,
   "id": "c7106221",
   "metadata": {},
   "outputs": [],
   "source": [
    "# Part 2: Model performance in data train "
   ]
  },
  {
   "cell_type": "code",
   "execution_count": 50,
   "id": "30b78a0a",
   "metadata": {
    "scrolled": true
   },
   "outputs": [
    {
     "name": "stdout",
     "output_type": "stream",
     "text": [
      "Classification Report Training Model (Logistic Regression) :\n",
      "              precision    recall  f1-score   support\n",
      "\n",
      "           0       0.75      0.76      0.75      1713\n",
      "           1       0.75      0.75      0.75      1707\n",
      "\n",
      "    accuracy                           0.75      3420\n",
      "   macro avg       0.75      0.75      0.75      3420\n",
      "weighted avg       0.75      0.75      0.75      3420\n",
      "\n"
     ]
    }
   ],
   "source": [
    "# Menampilkan hasil training dengan confusion matrix\n",
    "from sklearn.metrics import classification_report\n",
    "# Predict\n",
    "y2_train_pred = log_model.predict(X2_train)\n",
    "# Print classification report \n",
    "print('Classification Report Training Model (Logistic Regression) :')\n",
    "print(classification_report(y2_train, y2_train_pred))"
   ]
  },
  {
   "cell_type": "code",
   "execution_count": 51,
   "id": "56bca792",
   "metadata": {},
   "outputs": [
    {
     "data": {
      "image/png": "[encoded data removed]",
      "text/plain": [
       "<Figure size 432x288 with 2 Axes>"
      ]
     },
     "metadata": {
      "needs_background": "light"
     },
     "output_type": "display_data"
    }
   ],
   "source": [
    "# Menampilkan hasil training model dengan visualisasi heatmap dari confusion matrix \n",
    "confusion_matrix_df = pd.DataFrame((confusion_matrix(y2_train, y2_train_pred)), ('No churn', 'Churn'), ('No churn', 'Churn'))\n",
    "\n",
    "# Plot confusion matrix\n",
    "plt.figure()\n",
    "heatmap = sns.heatmap(confusion_matrix_df, annot=True, annot_kws={'size': 14}, fmt='d', cmap='YlGnBu')\n",
    "heatmap.yaxis.set_ticklabels(heatmap.yaxis.get_ticklabels(), rotation=0, ha='right', fontsize=14)\n",
    "heatmap.xaxis.set_ticklabels(heatmap.xaxis.get_ticklabels(), rotation=0, ha='right', fontsize=14)\n",
    "\n",
    "plt.title('Confusion Matrix untuk Training Model\\n(Logistic Regression)', fontsize=18, color='darkblue')\n",
    "plt.ylabel('True label', fontsize=14)\n",
    "plt.xlabel('Predicted label', fontsize=14)\n",
    "plt.show()"
   ]
  },
  {
   "cell_type": "markdown",
   "id": "c96d4968",
   "metadata": {},
   "source": [
    "Dari data training dapat dilihat bahwa model mampu memprediksi data dengan tingkat akurasi `sebesar 75%`, dengan detail prediksi Churn yang sebenarnya Churn adalah 1284, prediksi tidak Churn yang sebenarnya tidak Churn adalah 1294, prediksi tidak Churn yang sebenarnya Churn adalah 423 dan prediksi churn yang sebenarnya tidak churn adalah 419."
   ]
  },
  {
   "cell_type": "code",
   "execution_count": 52,
   "id": "f6a2ae17",
   "metadata": {},
   "outputs": [],
   "source": [
    "# Part 3: Model performance in data test"
   ]
  },
  {
   "cell_type": "code",
   "execution_count": 53,
   "id": "fa175850",
   "metadata": {},
   "outputs": [
    {
     "name": "stdout",
     "output_type": "stream",
     "text": [
      "Classification Report Testing Model (Logistic Regression):\n",
      "              precision    recall  f1-score   support\n",
      "\n",
      "           0       0.75      0.76      0.75      1137\n",
      "           1       0.76      0.75      0.75      1143\n",
      "\n",
      "    accuracy                           0.75      2280\n",
      "   macro avg       0.75      0.75      0.75      2280\n",
      "weighted avg       0.75      0.75      0.75      2280\n",
      "\n"
     ]
    }
   ],
   "source": [
    "# Menampilkan hasil testing model dengan confusion matrix\n",
    "# Predict\n",
    "y2_test_pred = log_model.predict(X2_test)\n",
    "# Print classification report\n",
    "print('Classification Report Testing Model (Logistic Regression):')\n",
    "print(classification_report(y2_test, y2_test_pred))"
   ]
  },
  {
   "cell_type": "code",
   "execution_count": 54,
   "id": "928eb971",
   "metadata": {},
   "outputs": [
    {
     "data": {
      "image/png": "[encoded data removed]",
      "text/plain": [
       "<Figure size 432x288 with 2 Axes>"
      ]
     },
     "metadata": {
      "needs_background": "light"
     },
     "output_type": "display_data"
    }
   ],
   "source": [
    "# Menampilkan hasil testing model dengan visualisasi heatmap dari confusion matrix \n",
    "confusion_matrix_df = pd.DataFrame((confusion_matrix(y2_test, y2_test_pred)), ('No churn', 'Churn'), ('No churn', 'Churn'))\n",
    "\n",
    "# Plot confusion matrix\n",
    "plt.figure()\n",
    "heatmap = sns.heatmap(confusion_matrix_df, annot=True, annot_kws={'size': 14}, fmt='d', cmap='YlGnBu')\n",
    "heatmap.yaxis.set_ticklabels(heatmap.yaxis.get_ticklabels(), rotation=0, ha='right', fontsize=14)\n",
    "heatmap.xaxis.set_ticklabels(heatmap.xaxis.get_ticklabels(), rotation=0, ha='right', fontsize=14)\n",
    "\n",
    "plt.title('Confusion Matrix untuk Testing Model\\n(Logistic Regression)\\n', fontsize=18, color='darkblue')\n",
    "plt.ylabel('True label', fontsize=14)\n",
    "plt.xlabel('Predicted label', fontsize=14)\n",
    "plt.show()"
   ]
  },
  {
   "cell_type": "markdown",
   "id": "ae008291",
   "metadata": {},
   "source": [
    "Dari data testing dapat dilihat bahwa model mampu memprediksi data dengan tingkat akurasi `sebesar 75%`, dengan detail prediksi Churn yang sebenarnya churn adalah 854, prediksi tidak Churn yang sebenarnya tidak Churn adalah 861, prediksi tidak churn yang sebenarnya Churn adalah 289 dan prediksi Churn yang sebenarnya tidak Churn adalah 276."
   ]
  },
  {
   "cell_type": "markdown",
   "id": "75bbaa52",
   "metadata": {},
   "source": [
    "### 5.2 Model machine learning yang akan digunakan yaitu Decision Tree."
   ]
  },
  {
   "cell_type": "code",
   "execution_count": 55,
   "id": "a71c6a52",
   "metadata": {},
   "outputs": [],
   "source": [
    "# Part 1: Import all package & create function for modelling"
   ]
  },
  {
   "cell_type": "code",
   "execution_count": 56,
   "id": "4c746ba5",
   "metadata": {},
   "outputs": [],
   "source": [
    "from sklearn import tree\n",
    "# import pydotplus\n",
    "# import matplotlib.pyplot as plt\n",
    "# import matplotlib.image as pltimg\n",
    "\n",
    "dtree = tree.DecisionTreeClassifier()\n",
    "dtree = dtree.fit(X2_train, y2_train)\n",
    "y2_dtree = dtree.predict(X2_test)"
   ]
  },
  {
   "cell_type": "code",
   "execution_count": 57,
   "id": "8efef6cc",
   "metadata": {
    "scrolled": true
   },
   "outputs": [
    {
     "name": "stdout",
     "output_type": "stream",
     "text": [
      "|--- feature_5 <= 236.15\n",
      "|   |--- feature_4 <= 3.50\n",
      "|   |   |--- feature_1 <= 0.50\n",
      "|   |   |   |--- feature_9 <= 13.10\n",
      "|   |   |   |   |--- feature_3 <= 3.24\n",
      "|   |   |   |   |   |--- feature_6 <= 134.50\n",
      "|   |   |   |   |   |   |--- feature_5 <= 233.80\n",
      "|   |   |   |   |   |   |   |--- feature_0 <= 35.00\n",
      "|   |   |   |   |   |   |   |   |--- feature_3 <= 0.27\n",
      "|   |   |   |   |   |   |   |   |   |--- class: 0\n",
      "|   |   |   |   |   |   |   |   |--- feature_3 >  0.27\n",
      "|   |   |   |   |   |   |   |   |   |--- class: 1\n",
      "|   |   |   |   |   |   |   |--- feature_0 >  35.00\n",
      "|   |   |   |   |   |   |   |   |--- feature_9 <= 10.05\n",
      "|   |   |   |   |   |   |   |   |   |--- feature_3 <= 2.13\n",
      "|   |   |   |   |   |   |   |   |   |   |--- feature_6 <= 60.00\n",
      "|   |   |   |   |   |   |   |   |   |   |   |--- class: 0\n",
      "|   |   |   |   |   |   |   |   |   |   |--- feature_6 >  60.00\n",
      "|   |   |   |   |   |   |   |   |   |   |   |--- truncated branch of depth 8\n",
      "|   |   |   |   |   |   |   |   |   |--- feature_3 >  2.13\n",
      "|   |   |   |   |   |   |   |   |   |   |--- feature_5 <= 186.60\n",
      "|   |   |   |   |   |   |   |   |   |   |   |--- class: 0\n",
      "|   |   |   |   |   |   |   |   |   |   |--- feature_5 >  186.60\n",
      "|   |   |   |   |   |   |   |   |   |   |   |--- class: 1\n",
      "|   |   |   |   |   |   |   |   |--- feature_9 >  10.05\n",
      "|   |   |   |   |   |   |   |   |   |--- feature_9 <= 10.60\n",
      "|   |   |   |   |   |   |   |   |   |   |--- feature_7 <= 28.00\n",
      "|   |   |   |   |   |   |   |   |   |   |   |--- class: 1\n",
      "|   |   |   |   |   |   |   |   |   |   |--- feature_7 >  28.00\n",
      "|   |   |   |   |   |   |   |   |   |   |   |--- class: 0\n",
      "|   |   |   |   |   |   |   |   |   |--- feature_9 >  10.60\n",
      "|   |   |   |   |   |   |   |   |   |   |--- feature_5 <= 169.75\n",
      "|   |   |   |   |   |   |   |   |   |   |   |--- truncated branch of depth 7\n",
      "|   |   |   |   |   |   |   |   |   |   |--- feature_5 >  169.75\n",
      "|   |   |   |   |   |   |   |   |   |   |   |--- truncated branch of depth 7\n",
      "|   |   |   |   |   |   |--- feature_5 >  233.80\n",
      "|   |   |   |   |   |   |   |--- class: 0\n",
      "|   |   |   |   |   |--- feature_6 >  134.50\n",
      "|   |   |   |   |   |   |--- class: 0\n",
      "|   |   |   |   |--- feature_3 >  3.24\n",
      "|   |   |   |   |   |--- class: 0\n",
      "|   |   |   |--- feature_9 >  13.10\n",
      "|   |   |   |   |--- class: 1\n",
      "|   |   |--- feature_1 >  0.50\n",
      "|   |   |   |--- feature_8 <= 13.68\n",
      "|   |   |   |   |--- feature_8 <= 8.36\n",
      "|   |   |   |   |   |--- feature_0 <= 143.50\n",
      "|   |   |   |   |   |   |--- feature_8 <= 3.79\n",
      "|   |   |   |   |   |   |   |--- feature_8 <= 3.75\n",
      "|   |   |   |   |   |   |   |   |--- class: 0\n",
      "|   |   |   |   |   |   |   |--- feature_8 >  3.75\n",
      "|   |   |   |   |   |   |   |   |--- class: 1\n",
      "|   |   |   |   |   |   |--- feature_8 >  3.79\n",
      "|   |   |   |   |   |   |   |--- feature_6 <= 73.50\n",
      "|   |   |   |   |   |   |   |   |--- feature_0 <= 42.50\n",
      "|   |   |   |   |   |   |   |   |   |--- feature_8 <= 6.54\n",
      "|   |   |   |   |   |   |   |   |   |   |--- class: 0\n",
      "|   |   |   |   |   |   |   |   |   |--- feature_8 >  6.54\n",
      "|   |   |   |   |   |   |   |   |   |   |--- class: 1\n",
      "|   |   |   |   |   |   |   |   |--- feature_0 >  42.50\n",
      "|   |   |   |   |   |   |   |   |   |--- class: 0\n",
      "|   |   |   |   |   |   |   |--- feature_6 >  73.50\n",
      "|   |   |   |   |   |   |   |   |--- feature_6 <= 122.50\n",
      "|   |   |   |   |   |   |   |   |   |--- class: 0\n",
      "|   |   |   |   |   |   |   |   |--- feature_6 >  122.50\n",
      "|   |   |   |   |   |   |   |   |   |--- feature_6 <= 123.50\n",
      "|   |   |   |   |   |   |   |   |   |   |--- feature_7 <= 39.10\n",
      "|   |   |   |   |   |   |   |   |   |   |   |--- class: 1\n",
      "|   |   |   |   |   |   |   |   |   |   |--- feature_7 >  39.10\n",
      "|   |   |   |   |   |   |   |   |   |   |   |--- class: 0\n",
      "|   |   |   |   |   |   |   |   |   |--- feature_6 >  123.50\n",
      "|   |   |   |   |   |   |   |   |   |   |--- class: 0\n",
      "|   |   |   |   |   |--- feature_0 >  143.50\n",
      "|   |   |   |   |   |   |--- feature_6 <= 97.50\n",
      "|   |   |   |   |   |   |   |--- feature_8 <= 7.20\n",
      "|   |   |   |   |   |   |   |   |--- feature_8 <= 6.13\n",
      "|   |   |   |   |   |   |   |   |   |--- class: 0\n",
      "|   |   |   |   |   |   |   |   |--- feature_8 >  6.13\n",
      "|   |   |   |   |   |   |   |   |   |--- feature_9 <= 11.05\n",
      "|   |   |   |   |   |   |   |   |   |   |--- class: 1\n",
      "|   |   |   |   |   |   |   |   |   |--- feature_9 >  11.05\n",
      "|   |   |   |   |   |   |   |   |   |   |--- class: 0\n",
      "|   |   |   |   |   |   |   |--- feature_8 >  7.20\n",
      "|   |   |   |   |   |   |   |   |--- class: 0\n",
      "|   |   |   |   |   |   |--- feature_6 >  97.50\n",
      "|   |   |   |   |   |   |   |--- feature_7 <= 70.85\n",
      "|   |   |   |   |   |   |   |   |--- class: 0\n",
      "|   |   |   |   |   |   |   |--- feature_7 >  70.85\n",
      "|   |   |   |   |   |   |   |   |--- feature_9 <= 9.75\n",
      "|   |   |   |   |   |   |   |   |   |--- class: 0\n",
      "|   |   |   |   |   |   |   |   |--- feature_9 >  9.75\n",
      "|   |   |   |   |   |   |   |   |   |--- class: 1\n",
      "|   |   |   |   |--- feature_8 >  8.36\n",
      "|   |   |   |   |   |--- feature_0 <= 24.00\n",
      "|   |   |   |   |   |   |--- feature_6 <= 82.00\n",
      "|   |   |   |   |   |   |   |--- feature_6 <= 71.50\n",
      "|   |   |   |   |   |   |   |   |--- class: 0\n",
      "|   |   |   |   |   |   |   |--- feature_6 >  71.50\n",
      "|   |   |   |   |   |   |   |   |--- class: 1\n",
      "|   |   |   |   |   |   |--- feature_6 >  82.00\n",
      "|   |   |   |   |   |   |   |--- class: 0\n",
      "|   |   |   |   |   |--- feature_0 >  24.00\n",
      "|   |   |   |   |   |   |--- feature_6 <= 124.50\n",
      "|   |   |   |   |   |   |   |--- feature_9 <= 10.15\n",
      "|   |   |   |   |   |   |   |   |--- feature_8 <= 8.36\n",
      "|   |   |   |   |   |   |   |   |   |--- feature_7 <= 45.50\n",
      "|   |   |   |   |   |   |   |   |   |   |--- class: 0\n",
      "|   |   |   |   |   |   |   |   |   |--- feature_7 >  45.50\n",
      "|   |   |   |   |   |   |   |   |   |   |--- class: 1\n",
      "|   |   |   |   |   |   |   |   |--- feature_8 >  8.36\n",
      "|   |   |   |   |   |   |   |   |   |--- feature_7 <= 30.50\n",
      "|   |   |   |   |   |   |   |   |   |   |--- feature_7 <= 29.80\n",
      "|   |   |   |   |   |   |   |   |   |   |   |--- class: 0\n",
      "|   |   |   |   |   |   |   |   |   |   |--- feature_7 >  29.80\n",
      "|   |   |   |   |   |   |   |   |   |   |   |--- class: 1\n",
      "|   |   |   |   |   |   |   |   |   |--- feature_7 >  30.50\n",
      "|   |   |   |   |   |   |   |   |   |   |--- feature_0 <= 154.50\n",
      "|   |   |   |   |   |   |   |   |   |   |   |--- truncated branch of depth 7\n",
      "|   |   |   |   |   |   |   |   |   |   |--- feature_0 >  154.50\n",
      "|   |   |   |   |   |   |   |   |   |   |   |--- truncated branch of depth 4\n",
      "|   |   |   |   |   |   |   |--- feature_9 >  10.15\n",
      "|   |   |   |   |   |   |   |   |--- feature_9 <= 10.65\n",
      "|   |   |   |   |   |   |   |   |   |--- feature_7 <= 45.20\n",
      "|   |   |   |   |   |   |   |   |   |   |--- class: 0\n",
      "|   |   |   |   |   |   |   |   |   |--- feature_7 >  45.20\n",
      "|   |   |   |   |   |   |   |   |   |   |--- feature_3 <= 0.24\n",
      "|   |   |   |   |   |   |   |   |   |   |   |--- truncated branch of depth 7\n",
      "|   |   |   |   |   |   |   |   |   |   |--- feature_3 >  0.24\n",
      "|   |   |   |   |   |   |   |   |   |   |   |--- truncated branch of depth 4\n",
      "|   |   |   |   |   |   |   |   |--- feature_9 >  10.65\n",
      "|   |   |   |   |   |   |   |   |   |--- feature_6 <= 96.50\n",
      "|   |   |   |   |   |   |   |   |   |   |--- feature_0 <= 109.50\n",
      "|   |   |   |   |   |   |   |   |   |   |   |--- truncated branch of depth 7\n",
      "|   |   |   |   |   |   |   |   |   |   |--- feature_0 >  109.50\n",
      "|   |   |   |   |   |   |   |   |   |   |   |--- truncated branch of depth 4\n",
      "|   |   |   |   |   |   |   |   |   |--- feature_6 >  96.50\n",
      "|   |   |   |   |   |   |   |   |   |   |--- feature_0 <= 121.50\n",
      "|   |   |   |   |   |   |   |   |   |   |   |--- truncated branch of depth 3\n",
      "|   |   |   |   |   |   |   |   |   |   |--- feature_0 >  121.50\n",
      "|   |   |   |   |   |   |   |   |   |   |   |--- truncated branch of depth 6\n",
      "|   |   |   |   |   |   |--- feature_6 >  124.50\n",
      "|   |   |   |   |   |   |   |--- feature_6 <= 126.50\n",
      "|   |   |   |   |   |   |   |   |--- feature_3 <= 0.20\n",
      "|   |   |   |   |   |   |   |   |   |--- class: 0\n",
      "|   |   |   |   |   |   |   |   |--- feature_3 >  0.20\n",
      "|   |   |   |   |   |   |   |   |   |--- feature_0 <= 97.50\n",
      "|   |   |   |   |   |   |   |   |   |   |--- class: 0\n",
      "|   |   |   |   |   |   |   |   |   |--- feature_0 >  97.50\n",
      "|   |   |   |   |   |   |   |   |   |   |--- feature_5 <= 107.60\n",
      "|   |   |   |   |   |   |   |   |   |   |   |--- class: 0\n",
      "|   |   |   |   |   |   |   |   |   |   |--- feature_5 >  107.60\n",
      "|   |   |   |   |   |   |   |   |   |   |   |--- truncated branch of depth 2\n",
      "|   |   |   |   |   |   |   |--- feature_6 >  126.50\n",
      "|   |   |   |   |   |   |   |   |--- feature_0 <= 158.00\n",
      "|   |   |   |   |   |   |   |   |   |--- feature_5 <= 230.70\n",
      "|   |   |   |   |   |   |   |   |   |   |--- feature_5 <= 179.00\n",
      "|   |   |   |   |   |   |   |   |   |   |   |--- class: 0\n",
      "|   |   |   |   |   |   |   |   |   |   |--- feature_5 >  179.00\n",
      "|   |   |   |   |   |   |   |   |   |   |   |--- truncated branch of depth 5\n",
      "|   |   |   |   |   |   |   |   |   |--- feature_5 >  230.70\n",
      "|   |   |   |   |   |   |   |   |   |   |--- feature_5 <= 233.50\n",
      "|   |   |   |   |   |   |   |   |   |   |   |--- class: 1\n",
      "|   |   |   |   |   |   |   |   |   |   |--- feature_5 >  233.50\n",
      "|   |   |   |   |   |   |   |   |   |   |   |--- class: 0\n",
      "|   |   |   |   |   |   |   |   |--- feature_0 >  158.00\n",
      "|   |   |   |   |   |   |   |   |   |--- feature_0 <= 169.00\n",
      "|   |   |   |   |   |   |   |   |   |   |--- feature_8 <= 10.79\n",
      "|   |   |   |   |   |   |   |   |   |   |   |--- class: 0\n",
      "|   |   |   |   |   |   |   |   |   |   |--- feature_8 >  10.79\n",
      "|   |   |   |   |   |   |   |   |   |   |   |--- class: 1\n",
      "|   |   |   |   |   |   |   |   |   |--- feature_0 >  169.00\n",
      "|   |   |   |   |   |   |   |   |   |   |--- class: 0\n",
      "|   |   |   |--- feature_8 >  13.68\n",
      "|   |   |   |   |--- feature_5 <= 216.50\n",
      "|   |   |   |   |   |--- feature_8 <= 16.84\n",
      "|   |   |   |   |   |   |--- feature_8 <= 13.84\n",
      "|   |   |   |   |   |   |   |--- feature_0 <= 95.00\n",
      "|   |   |   |   |   |   |   |   |--- class: 0\n",
      "|   |   |   |   |   |   |   |--- feature_0 >  95.00\n",
      "|   |   |   |   |   |   |   |   |--- feature_5 <= 168.70\n",
      "|   |   |   |   |   |   |   |   |   |--- feature_7 <= 50.00\n",
      "|   |   |   |   |   |   |   |   |   |   |--- class: 0\n",
      "|   |   |   |   |   |   |   |   |   |--- feature_7 >  50.00\n",
      "|   |   |   |   |   |   |   |   |   |   |--- feature_0 <= 159.00\n",
      "|   |   |   |   |   |   |   |   |   |   |   |--- class: 1\n",
      "|   |   |   |   |   |   |   |   |   |   |--- feature_0 >  159.00\n",
      "|   |   |   |   |   |   |   |   |   |   |   |--- truncated branch of depth 2\n",
      "|   |   |   |   |   |   |   |   |--- feature_5 >  168.70\n",
      "|   |   |   |   |   |   |   |   |   |--- class: 0\n",
      "|   |   |   |   |   |   |--- feature_8 >  13.84\n",
      "|   |   |   |   |   |   |   |--- feature_9 <= 5.75\n",
      "|   |   |   |   |   |   |   |   |--- feature_8 <= 15.26\n",
      "|   |   |   |   |   |   |   |   |   |--- class: 0\n",
      "|   |   |   |   |   |   |   |   |--- feature_8 >  15.26\n",
      "|   |   |   |   |   |   |   |   |   |--- class: 1\n",
      "|   |   |   |   |   |   |   |--- feature_9 >  5.75\n",
      "|   |   |   |   |   |   |   |   |--- class: 0\n",
      "|   |   |   |   |   |--- feature_8 >  16.84\n",
      "|   |   |   |   |   |   |--- feature_6 <= 105.00\n",
      "|   |   |   |   |   |   |   |--- class: 0\n",
      "|   |   |   |   |   |   |--- feature_6 >  105.00\n",
      "|   |   |   |   |   |   |   |--- class: 1\n",
      "|   |   |   |   |--- feature_5 >  216.50\n",
      "|   |   |   |   |   |--- feature_3 <= 0.39\n",
      "|   |   |   |   |   |   |--- feature_6 <= 121.50\n",
      "|   |   |   |   |   |   |   |--- class: 1\n",
      "|   |   |   |   |   |   |--- feature_6 >  121.50\n",
      "|   |   |   |   |   |   |   |--- feature_6 <= 126.50\n",
      "|   |   |   |   |   |   |   |   |--- class: 0\n",
      "|   |   |   |   |   |   |   |--- feature_6 >  126.50\n",
      "|   |   |   |   |   |   |   |   |--- class: 1\n",
      "|   |   |   |   |   |--- feature_3 >  0.39\n",
      "|   |   |   |   |   |   |--- class: 0\n",
      "|   |--- feature_4 >  3.50\n",
      "|   |   |--- feature_5 <= 182.75\n",
      "|   |   |   |--- feature_5 <= 162.85\n",
      "|   |   |   |   |--- feature_0 <= 10.00\n",
      "|   |   |   |   |   |--- class: 0\n",
      "|   |   |   |   |--- feature_0 >  10.00\n",
      "|   |   |   |   |   |--- feature_7 <= 70.10\n",
      "|   |   |   |   |   |   |--- feature_8 <= 12.16\n",
      "|   |   |   |   |   |   |   |--- class: 1\n",
      "|   |   |   |   |   |   |--- feature_8 >  12.16\n",
      "|   |   |   |   |   |   |   |--- feature_0 <= 123.50\n",
      "|   |   |   |   |   |   |   |   |--- feature_9 <= 5.30\n",
      "|   |   |   |   |   |   |   |   |   |--- class: 0\n",
      "|   |   |   |   |   |   |   |   |--- feature_9 >  5.30\n",
      "|   |   |   |   |   |   |   |   |   |--- class: 1\n",
      "|   |   |   |   |   |   |   |--- feature_0 >  123.50\n",
      "|   |   |   |   |   |   |   |   |--- class: 0\n",
      "|   |   |   |   |   |--- feature_7 >  70.10\n",
      "|   |   |   |   |   |   |--- feature_3 <= 2.88\n",
      "|   |   |   |   |   |   |   |--- class: 0\n",
      "|   |   |   |   |   |   |--- feature_3 >  2.88\n",
      "|   |   |   |   |   |   |   |--- feature_8 <= 10.37\n",
      "|   |   |   |   |   |   |   |   |--- feature_6 <= 102.00\n",
      "|   |   |   |   |   |   |   |   |   |--- class: 1\n",
      "|   |   |   |   |   |   |   |   |--- feature_6 >  102.00\n",
      "|   |   |   |   |   |   |   |   |   |--- class: 0\n",
      "|   |   |   |   |   |   |   |--- feature_8 >  10.37\n",
      "|   |   |   |   |   |   |   |   |--- class: 1\n",
      "|   |   |   |--- feature_5 >  162.85\n",
      "|   |   |   |   |--- feature_8 <= 10.64\n",
      "|   |   |   |   |   |--- feature_0 <= 190.25\n",
      "|   |   |   |   |   |   |--- feature_5 <= 177.05\n",
      "|   |   |   |   |   |   |   |--- class: 1\n",
      "|   |   |   |   |   |   |--- feature_5 >  177.05\n",
      "|   |   |   |   |   |   |   |--- feature_6 <= 97.00\n",
      "|   |   |   |   |   |   |   |   |--- class: 0\n",
      "|   |   |   |   |   |   |   |--- feature_6 >  97.00\n",
      "|   |   |   |   |   |   |   |   |--- class: 1\n",
      "|   |   |   |   |   |--- feature_0 >  190.25\n",
      "|   |   |   |   |   |   |--- class: 0\n",
      "|   |   |   |   |--- feature_8 >  10.64\n",
      "|   |   |   |   |   |--- class: 0\n",
      "|   |   |--- feature_5 >  182.75\n",
      "|   |   |   |--- feature_8 <= 6.80\n",
      "|   |   |   |   |--- class: 1\n",
      "|   |   |   |--- feature_8 >  6.80\n",
      "|   |   |   |   |--- feature_1 <= 0.50\n",
      "|   |   |   |   |   |--- feature_8 <= 12.16\n",
      "|   |   |   |   |   |   |--- class: 0\n",
      "|   |   |   |   |   |--- feature_8 >  12.16\n",
      "|   |   |   |   |   |   |--- class: 1\n",
      "|   |   |   |   |--- feature_1 >  0.50\n",
      "|   |   |   |   |   |--- feature_9 <= 6.75\n",
      "|   |   |   |   |   |   |--- feature_0 <= 62.50\n",
      "|   |   |   |   |   |   |   |--- class: 1\n",
      "|   |   |   |   |   |   |--- feature_0 >  62.50\n",
      "|   |   |   |   |   |   |   |--- class: 0\n",
      "|   |   |   |   |   |--- feature_9 >  6.75\n",
      "|   |   |   |   |   |   |--- class: 0\n",
      "|--- feature_5 >  236.15\n",
      "|   |--- feature_3 <= 1.86\n",
      "|   |   |--- feature_7 <= 60.95\n",
      "|   |   |   |--- feature_5 <= 237.45\n",
      "|   |   |   |   |--- feature_6 <= 115.50\n",
      "|   |   |   |   |   |--- feature_0 <= 59.00\n",
      "|   |   |   |   |   |   |--- class: 0\n",
      "|   |   |   |   |   |--- feature_0 >  59.00\n",
      "|   |   |   |   |   |   |--- feature_7 <= 54.50\n",
      "|   |   |   |   |   |   |   |--- class: 0\n",
      "|   |   |   |   |   |   |--- feature_7 >  54.50\n",
      "|   |   |   |   |   |   |   |--- class: 1\n",
      "|   |   |   |   |--- feature_6 >  115.50\n",
      "|   |   |   |   |   |--- class: 0\n",
      "|   |   |   |--- feature_5 >  237.45\n",
      "|   |   |   |   |--- feature_1 <= 0.50\n",
      "|   |   |   |   |   |--- feature_5 <= 245.60\n",
      "|   |   |   |   |   |   |--- class: 0\n",
      "|   |   |   |   |   |--- feature_5 >  245.60\n",
      "|   |   |   |   |   |   |--- feature_7 <= 57.50\n",
      "|   |   |   |   |   |   |   |--- feature_9 <= 11.35\n",
      "|   |   |   |   |   |   |   |   |--- class: 0\n",
      "|   |   |   |   |   |   |   |--- feature_9 >  11.35\n",
      "|   |   |   |   |   |   |   |   |--- class: 1\n",
      "|   |   |   |   |   |   |--- feature_7 >  57.50\n",
      "|   |   |   |   |   |   |   |--- feature_9 <= 9.50\n",
      "|   |   |   |   |   |   |   |   |--- class: 0\n",
      "|   |   |   |   |   |   |   |--- feature_9 >  9.50\n",
      "|   |   |   |   |   |   |   |   |--- class: 1\n",
      "|   |   |   |   |--- feature_1 >  0.50\n",
      "|   |   |   |   |   |--- feature_0 <= 27.00\n",
      "|   |   |   |   |   |   |--- feature_9 <= 10.95\n",
      "|   |   |   |   |   |   |   |--- class: 0\n",
      "|   |   |   |   |   |   |--- feature_9 >  10.95\n",
      "|   |   |   |   |   |   |   |--- class: 1\n",
      "|   |   |   |   |   |--- feature_0 >  27.00\n",
      "|   |   |   |   |   |   |--- feature_6 <= 83.50\n",
      "|   |   |   |   |   |   |   |--- feature_0 <= 93.00\n",
      "|   |   |   |   |   |   |   |   |--- feature_7 <= 52.00\n",
      "|   |   |   |   |   |   |   |   |   |--- class: 0\n",
      "|   |   |   |   |   |   |   |   |--- feature_7 >  52.00\n",
      "|   |   |   |   |   |   |   |   |   |--- class: 1\n",
      "|   |   |   |   |   |   |   |--- feature_0 >  93.00\n",
      "|   |   |   |   |   |   |   |   |--- class: 0\n",
      "|   |   |   |   |   |   |--- feature_6 >  83.50\n",
      "|   |   |   |   |   |   |   |--- class: 0\n",
      "|   |   |--- feature_7 >  60.95\n",
      "|   |   |   |--- feature_7 <= 62.05\n",
      "|   |   |   |   |--- feature_9 <= 12.95\n",
      "|   |   |   |   |   |--- feature_6 <= 89.50\n",
      "|   |   |   |   |   |   |--- feature_0 <= 123.50\n",
      "|   |   |   |   |   |   |   |--- feature_9 <= 7.05\n",
      "|   |   |   |   |   |   |   |   |--- class: 0\n",
      "|   |   |   |   |   |   |   |--- feature_9 >  7.05\n",
      "|   |   |   |   |   |   |   |   |--- feature_3 <= 0.12\n",
      "|   |   |   |   |   |   |   |   |   |--- feature_8 <= 9.66\n",
      "|   |   |   |   |   |   |   |   |   |   |--- feature_5 <= 275.00\n",
      "|   |   |   |   |   |   |   |   |   |   |   |--- class: 0\n",
      "|   |   |   |   |   |   |   |   |   |   |--- feature_5 >  275.00\n",
      "|   |   |   |   |   |   |   |   |   |   |   |--- class: 1\n",
      "|   |   |   |   |   |   |   |   |   |--- feature_8 >  9.66\n",
      "|   |   |   |   |   |   |   |   |   |   |--- class: 1\n",
      "|   |   |   |   |   |   |   |   |--- feature_3 >  0.12\n",
      "|   |   |   |   |   |   |   |   |   |--- class: 0\n",
      "|   |   |   |   |   |   |--- feature_0 >  123.50\n",
      "|   |   |   |   |   |   |   |--- class: 0\n",
      "|   |   |   |   |   |--- feature_6 >  89.50\n",
      "|   |   |   |   |   |   |--- class: 0\n",
      "|   |   |   |   |--- feature_9 >  12.95\n",
      "|   |   |   |   |   |--- feature_5 <= 267.55\n",
      "|   |   |   |   |   |   |--- class: 1\n",
      "|   |   |   |   |   |--- feature_5 >  267.55\n",
      "|   |   |   |   |   |   |--- class: 0\n",
      "|   |   |   |--- feature_7 >  62.05\n",
      "|   |   |   |   |--- feature_3 <= 0.09\n",
      "|   |   |   |   |   |--- feature_7 <= 63.50\n",
      "|   |   |   |   |   |   |--- feature_4 <= 0.50\n",
      "|   |   |   |   |   |   |   |--- class: 0\n",
      "|   |   |   |   |   |   |--- feature_4 >  0.50\n",
      "|   |   |   |   |   |   |   |--- feature_8 <= 7.31\n",
      "|   |   |   |   |   |   |   |   |--- class: 0\n",
      "|   |   |   |   |   |   |   |--- feature_8 >  7.31\n",
      "|   |   |   |   |   |   |   |   |--- feature_6 <= 145.50\n",
      "|   |   |   |   |   |   |   |   |   |--- feature_1 <= 0.50\n",
      "|   |   |   |   |   |   |   |   |   |   |--- feature_6 <= 122.50\n",
      "|   |   |   |   |   |   |   |   |   |   |   |--- class: 0\n",
      "|   |   |   |   |   |   |   |   |   |   |--- feature_6 >  122.50\n",
      "|   |   |   |   |   |   |   |   |   |   |   |--- class: 1\n",
      "|   |   |   |   |   |   |   |   |   |--- feature_1 >  0.50\n",
      "|   |   |   |   |   |   |   |   |   |   |--- feature_5 <= 253.60\n",
      "|   |   |   |   |   |   |   |   |   |   |   |--- truncated branch of depth 2\n",
      "|   |   |   |   |   |   |   |   |   |   |--- feature_5 >  253.60\n",
      "|   |   |   |   |   |   |   |   |   |   |   |--- class: 1\n",
      "|   |   |   |   |   |   |   |   |--- feature_6 >  145.50\n",
      "|   |   |   |   |   |   |   |   |   |--- class: 0\n",
      "|   |   |   |   |   |--- feature_7 >  63.50\n",
      "|   |   |   |   |   |   |--- feature_9 <= 6.10\n",
      "|   |   |   |   |   |   |   |--- feature_5 <= 264.75\n",
      "|   |   |   |   |   |   |   |   |--- class: 0\n",
      "|   |   |   |   |   |   |   |--- feature_5 >  264.75\n",
      "|   |   |   |   |   |   |   |   |--- feature_9 <= 5.90\n",
      "|   |   |   |   |   |   |   |   |   |--- class: 1\n",
      "|   |   |   |   |   |   |   |   |--- feature_9 >  5.90\n",
      "|   |   |   |   |   |   |   |   |   |--- class: 0\n",
      "|   |   |   |   |   |   |--- feature_9 >  6.10\n",
      "|   |   |   |   |   |   |   |--- feature_6 <= 68.50\n",
      "|   |   |   |   |   |   |   |   |--- feature_0 <= 161.00\n",
      "|   |   |   |   |   |   |   |   |   |--- class: 1\n",
      "|   |   |   |   |   |   |   |   |--- feature_0 >  161.00\n",
      "|   |   |   |   |   |   |   |   |   |--- class: 0\n",
      "|   |   |   |   |   |   |   |--- feature_6 >  68.50\n",
      "|   |   |   |   |   |   |   |   |--- feature_9 <= 12.95\n",
      "|   |   |   |   |   |   |   |   |   |--- class: 1\n",
      "|   |   |   |   |   |   |   |   |--- feature_9 >  12.95\n",
      "|   |   |   |   |   |   |   |   |   |--- feature_9 <= 13.05\n",
      "|   |   |   |   |   |   |   |   |   |   |--- feature_7 <= 65.50\n",
      "|   |   |   |   |   |   |   |   |   |   |   |--- class: 0\n",
      "|   |   |   |   |   |   |   |   |   |   |--- feature_7 >  65.50\n",
      "|   |   |   |   |   |   |   |   |   |   |   |--- class: 1\n",
      "|   |   |   |   |   |   |   |   |   |--- feature_9 >  13.05\n",
      "|   |   |   |   |   |   |   |   |   |   |--- class: 1\n",
      "|   |   |   |   |--- feature_3 >  0.09\n",
      "|   |   |   |   |   |--- feature_3 <= 0.20\n",
      "|   |   |   |   |   |   |--- feature_7 <= 64.50\n",
      "|   |   |   |   |   |   |   |--- class: 1\n",
      "|   |   |   |   |   |   |--- feature_7 >  64.50\n",
      "|   |   |   |   |   |   |   |--- class: 0\n",
      "|   |   |   |   |   |--- feature_3 >  0.20\n",
      "|   |   |   |   |   |   |--- feature_7 <= 68.55\n",
      "|   |   |   |   |   |   |   |--- feature_5 <= 279.20\n",
      "|   |   |   |   |   |   |   |   |--- feature_7 <= 67.35\n",
      "|   |   |   |   |   |   |   |   |   |--- feature_6 <= 73.00\n",
      "|   |   |   |   |   |   |   |   |   |   |--- class: 0\n",
      "|   |   |   |   |   |   |   |   |   |--- feature_6 >  73.00\n",
      "|   |   |   |   |   |   |   |   |   |   |--- feature_3 <= 0.36\n",
      "|   |   |   |   |   |   |   |   |   |   |   |--- truncated branch of depth 5\n",
      "|   |   |   |   |   |   |   |   |   |   |--- feature_3 >  0.36\n",
      "|   |   |   |   |   |   |   |   |   |   |   |--- class: 0\n",
      "|   |   |   |   |   |   |   |   |--- feature_7 >  67.35\n",
      "|   |   |   |   |   |   |   |   |   |--- class: 0\n",
      "|   |   |   |   |   |   |   |--- feature_5 >  279.20\n",
      "|   |   |   |   |   |   |   |   |--- class: 0\n",
      "|   |   |   |   |   |   |--- feature_7 >  68.55\n",
      "|   |   |   |   |   |   |   |--- feature_9 <= 5.65\n",
      "|   |   |   |   |   |   |   |   |--- class: 0\n",
      "|   |   |   |   |   |   |   |--- feature_9 >  5.65\n",
      "|   |   |   |   |   |   |   |   |--- feature_7 <= 79.40\n",
      "|   |   |   |   |   |   |   |   |   |--- class: 1\n",
      "|   |   |   |   |   |   |   |   |--- feature_7 >  79.40\n",
      "|   |   |   |   |   |   |   |   |   |--- feature_7 <= 88.80\n",
      "|   |   |   |   |   |   |   |   |   |   |--- class: 0\n",
      "|   |   |   |   |   |   |   |   |   |--- feature_7 >  88.80\n",
      "|   |   |   |   |   |   |   |   |   |   |--- class: 1\n",
      "|   |--- feature_3 >  1.86\n",
      "|   |   |--- feature_1 <= 0.50\n",
      "|   |   |   |--- feature_7 <= 89.00\n",
      "|   |   |   |   |--- class: 0\n",
      "|   |   |   |--- feature_7 >  89.00\n",
      "|   |   |   |   |--- feature_6 <= 67.50\n",
      "|   |   |   |   |   |--- class: 0\n",
      "|   |   |   |   |--- feature_6 >  67.50\n",
      "|   |   |   |   |   |--- feature_5 <= 280.00\n",
      "|   |   |   |   |   |   |--- feature_0 <= 133.00\n",
      "|   |   |   |   |   |   |   |--- class: 1\n",
      "|   |   |   |   |   |   |--- feature_0 >  133.00\n",
      "|   |   |   |   |   |   |   |--- feature_3 <= 3.42\n",
      "|   |   |   |   |   |   |   |   |--- class: 0\n",
      "|   |   |   |   |   |   |   |--- feature_3 >  3.42\n",
      "|   |   |   |   |   |   |   |   |--- class: 1\n",
      "|   |   |   |   |   |--- feature_5 >  280.00\n",
      "|   |   |   |   |   |   |--- feature_8 <= 10.08\n",
      "|   |   |   |   |   |   |   |--- class: 1\n",
      "|   |   |   |   |   |   |--- feature_8 >  10.08\n",
      "|   |   |   |   |   |   |   |--- class: 0\n",
      "|   |   |--- feature_1 >  0.50\n",
      "|   |   |   |--- class: 0\n",
      "\n"
     ]
    }
   ],
   "source": [
    "text_representation = tree.export_text(dtree)\n",
    "print(text_representation)"
   ]
  },
  {
   "cell_type": "code",
   "execution_count": 58,
   "id": "2283b799",
   "metadata": {},
   "outputs": [],
   "source": [
    "# Part 2: Model performance in data test"
   ]
  },
  {
   "cell_type": "code",
   "execution_count": 59,
   "id": "ffcfcc92",
   "metadata": {},
   "outputs": [
    {
     "name": "stdout",
     "output_type": "stream",
     "text": [
      "              precision    recall  f1-score   support\n",
      "\n",
      "           0       0.99      0.93      0.96      1137\n",
      "           1       0.93      0.99      0.96      1143\n",
      "\n",
      "    accuracy                           0.96      2280\n",
      "   macro avg       0.96      0.96      0.96      2280\n",
      "weighted avg       0.96      0.96      0.96      2280\n",
      "\n"
     ]
    }
   ],
   "source": [
    "#Menampilkan hasil testing model dengan confusion matrix\n",
    "from sklearn.metrics import classification_report\n",
    "print(classification_report(y2_test, y2_dtree))"
   ]
  },
  {
   "cell_type": "code",
   "execution_count": 60,
   "id": "24b73255",
   "metadata": {},
   "outputs": [
    {
     "name": "stdout",
     "output_type": "stream",
     "text": [
      "[[1058   79]\n",
      " [  16 1127]]\n"
     ]
    }
   ],
   "source": [
    "from sklearn.metrics import confusion_matrix\n",
    "print(confusion_matrix(y2_test, y2_dtree))"
   ]
  },
  {
   "cell_type": "markdown",
   "id": "5d5fb4f5",
   "metadata": {},
   "source": [
    "Dari data testing dapat dilihat bahwa model mampu memprediksi data dengan tingkat akurasi `sebesar 96%`, dengan detail prediksi Churn yang sebenarnya churn adalah 1127, prediksi tidak Churn yang sebenarnya tidak Churn adalah 1058, prediksi tidak churn yang sebenarnya Churn adalah 16 dan prediksi Churn yang sebenarnya tidak Churn adalah 79."
   ]
  },
  {
   "cell_type": "markdown",
   "id": "c9281de6",
   "metadata": {},
   "source": [
    "### 5.3 Model machine learning yang akan digunakan yaitu Random Forest."
   ]
  },
  {
   "cell_type": "code",
   "execution_count": 61,
   "id": "ebdad555",
   "metadata": {},
   "outputs": [],
   "source": [
    "# Part 1: Import all package & create function for modelling"
   ]
  },
  {
   "cell_type": "code",
   "execution_count": 62,
   "id": "3c97c1fe",
   "metadata": {
    "scrolled": true
   },
   "outputs": [
    {
     "name": "stdout",
     "output_type": "stream",
     "text": [
      "RandomForestClassifier()\n"
     ]
    }
   ],
   "source": [
    "from sklearn.ensemble import RandomForestClassifier\n",
    "#Latih model dengan RandomForestClassifier()\n",
    "rdf_model = RandomForestClassifier().fit(X2_train, y2_train)\n",
    "print(rdf_model)"
   ]
  },
  {
   "cell_type": "code",
   "execution_count": 63,
   "id": "974f394d",
   "metadata": {
    "scrolled": true
   },
   "outputs": [
    {
     "data": {
      "text/html": [
       "<style>#sk-container-id-1 {color: black;background-color: white;}#sk-container-id-1 pre{padding: 0;}#sk-container-id-1 div.sk-toggleable {background-color: white;}#sk-container-id-1 label.sk-toggleable__label {cursor: pointer;display: block;width: 100%;margin-bottom: 0;padding: 0.3em;box-sizing: border-box;text-align: center;}#sk-container-id-1 label.sk-toggleable__label-arrow:before {content: \"▸\";float: left;margin-right: 0.25em;color: #696969;}#sk-container-id-1 label.sk-toggleable__label-arrow:hover:before {color: black;}#sk-container-id-1 div.sk-estimator:hover label.sk-toggleable__label-arrow:before {color: black;}#sk-container-id-1 div.sk-toggleable__content {max-height: 0;max-width: 0;overflow: hidden;text-align: left;background-color: #f0f8ff;}#sk-container-id-1 div.sk-toggleable__content pre {margin: 0.2em;color: black;border-radius: 0.25em;background-color: #f0f8ff;}#sk-container-id-1 input.sk-toggleable__control:checked~div.sk-toggleable__content {max-height: 200px;max-width: 100%;overflow: auto;}#sk-container-id-1 input.sk-toggleable__control:checked~label.sk-toggleable__label-arrow:before {content: \"▾\";}#sk-container-id-1 div.sk-estimator input.sk-toggleable__control:checked~label.sk-toggleable__label {background-color: #d4ebff;}#sk-container-id-1 div.sk-label input.sk-toggleable__control:checked~label.sk-toggleable__label {background-color: #d4ebff;}#sk-container-id-1 input.sk-hidden--visually {border: 0;clip: rect(1px 1px 1px 1px);clip: rect(1px, 1px, 1px, 1px);height: 1px;margin: -1px;overflow: hidden;padding: 0;position: absolute;width: 1px;}#sk-container-id-1 div.sk-estimator {font-family: monospace;background-color: #f0f8ff;border: 1px dotted black;border-radius: 0.25em;box-sizing: border-box;margin-bottom: 0.5em;}#sk-container-id-1 div.sk-estimator:hover {background-color: #d4ebff;}#sk-container-id-1 div.sk-parallel-item::after {content: \"\";width: 100%;border-bottom: 1px solid gray;flex-grow: 1;}#sk-container-id-1 div.sk-label:hover label.sk-toggleable__label {background-color: #d4ebff;}#sk-container-id-1 div.sk-serial::before {content: \"\";position: absolute;border-left: 1px solid gray;box-sizing: border-box;top: 0;bottom: 0;left: 50%;z-index: 0;}#sk-container-id-1 div.sk-serial {display: flex;flex-direction: column;align-items: center;background-color: white;padding-right: 0.2em;padding-left: 0.2em;position: relative;}#sk-container-id-1 div.sk-item {position: relative;z-index: 1;}#sk-container-id-1 div.sk-parallel {display: flex;align-items: stretch;justify-content: center;background-color: white;position: relative;}#sk-container-id-1 div.sk-item::before, #sk-container-id-1 div.sk-parallel-item::before {content: \"\";position: absolute;border-left: 1px solid gray;box-sizing: border-box;top: 0;bottom: 0;left: 50%;z-index: -1;}#sk-container-id-1 div.sk-parallel-item {display: flex;flex-direction: column;z-index: 1;position: relative;background-color: white;}#sk-container-id-1 div.sk-parallel-item:first-child::after {align-self: flex-end;width: 50%;}#sk-container-id-1 div.sk-parallel-item:last-child::after {align-self: flex-start;width: 50%;}#sk-container-id-1 div.sk-parallel-item:only-child::after {width: 0;}#sk-container-id-1 div.sk-dashed-wrapped {border: 1px dashed gray;margin: 0 0.4em 0.5em 0.4em;box-sizing: border-box;padding-bottom: 0.4em;background-color: white;}#sk-container-id-1 div.sk-label label {font-family: monospace;font-weight: bold;display: inline-block;line-height: 1.2em;}#sk-container-id-1 div.sk-label-container {text-align: center;}#sk-container-id-1 div.sk-container {/* jupyter's `normalize.less` sets `[hidden] { display: none; }` but bootstrap.min.css set `[hidden] { display: none !important; }` so we also need the `!important` here to be able to override the default hidden behavior on the sphinx rendered scikit-learn.org. See: https://github.com/scikit-learn/scikit-learn/issues/21755 */display: inline-block !important;position: relative;}#sk-container-id-1 div.sk-text-repr-fallback {display: none;}</style><div id=\"sk-container-id-1\" class=\"sk-top-container\"><div class=\"sk-text-repr-fallback\"><pre>RandomForestClassifier(max_depth=5, n_jobs=-1, oob_score=True, random_state=42)</pre><b>In a Jupyter environment, please rerun this cell to show the HTML representation or trust the notebook. <br />On GitHub, the HTML representation is unable to render, please try loading this page with nbviewer.org.</b></div><div class=\"sk-container\" hidden><div class=\"sk-item\"><div class=\"sk-estimator sk-toggleable\"><input class=\"sk-toggleable__control sk-hidden--visually\" id=\"sk-estimator-id-1\" type=\"checkbox\" checked><label for=\"sk-estimator-id-1\" class=\"sk-toggleable__label sk-toggleable__label-arrow\">RandomForestClassifier</label><div class=\"sk-toggleable__content\"><pre>RandomForestClassifier(max_depth=5, n_jobs=-1, oob_score=True, random_state=42)</pre></div></div></div></div></div>"
      ],
      "text/plain": [
       "RandomForestClassifier(max_depth=5, n_jobs=-1, oob_score=True, random_state=42)"
      ]
     },
     "execution_count": 63,
     "metadata": {},
     "output_type": "execute_result"
    }
   ],
   "source": [
    "from sklearn.ensemble import RandomForestClassifier\n",
    "\n",
    "classifier_rf = RandomForestClassifier(random_state=42, n_jobs=-1, max_depth=5,\n",
    "                                       n_estimators=100, oob_score=True)\n",
    "\n",
    "classifier_rf.fit(X2_train, y2_train)"
   ]
  },
  {
   "cell_type": "code",
   "execution_count": 64,
   "id": "8538bf7c",
   "metadata": {},
   "outputs": [],
   "source": [
    "# Part 2: Model performance in data train "
   ]
  },
  {
   "cell_type": "code",
   "execution_count": 65,
   "id": "c68860d3",
   "metadata": {},
   "outputs": [
    {
     "name": "stdout",
     "output_type": "stream",
     "text": [
      "Classification Report Training Model (Random Forest) :\n",
      "              precision    recall  f1-score   support\n",
      "\n",
      "           0       1.00      1.00      1.00      1713\n",
      "           1       1.00      1.00      1.00      1707\n",
      "\n",
      "    accuracy                           1.00      3420\n",
      "   macro avg       1.00      1.00      1.00      3420\n",
      "weighted avg       1.00      1.00      1.00      3420\n",
      "\n"
     ]
    }
   ],
   "source": [
    "# Menampilkan hasil training dengan confusion matrix\n",
    "\n",
    "from sklearn.metrics import classification_report\n",
    "# Predict\n",
    "y2_train_pred = rdf_model.predict(X2_train)\n",
    "# Print classification report \n",
    "print('Classification Report Training Model (Random Forest) :')\n",
    "print(classification_report(y2_train, y2_train_pred))"
   ]
  },
  {
   "cell_type": "code",
   "execution_count": 66,
   "id": "f5d612b2",
   "metadata": {},
   "outputs": [
    {
     "data": {
      "image/png": "[encoded data removed]",
      "text/plain": [
       "<Figure size 432x288 with 2 Axes>"
      ]
     },
     "metadata": {
      "needs_background": "light"
     },
     "output_type": "display_data"
    }
   ],
   "source": [
    "from sklearn.metrics import confusion_matrix, classification_report\n",
    "\n",
    "# Menampilkan hasil training model dengan visualisasi heatmap dari confusion matrix \n",
    "confusion_matrix_df = pd.DataFrame((confusion_matrix(y2_train, y2_train_pred)), ('No churn', 'Churn'), ('No churn', 'Churn'))\n",
    "\n",
    "# Plot confusion matrix\n",
    "plt.figure()\n",
    "heatmap = sns.heatmap(confusion_matrix_df, annot=True, annot_kws={'size': 14}, fmt='d', cmap='YlGnBu')\n",
    "heatmap.yaxis.set_ticklabels(heatmap.yaxis.get_ticklabels(), rotation=0, ha='right', fontsize=14)\n",
    "heatmap.xaxis.set_ticklabels(heatmap.xaxis.get_ticklabels(), rotation=0, ha='right', fontsize=14)\n",
    "\n",
    "plt.title('Confusion Matrix untuk Training Model\\n(Random Forest)', fontsize=18, color='darkblue')\n",
    "plt.ylabel('True label', fontsize=14)\n",
    "plt.xlabel('Predicted label', fontsize=14)\n",
    "plt.show()"
   ]
  },
  {
   "cell_type": "markdown",
   "id": "73c31f7b",
   "metadata": {},
   "source": [
    "Dari data training dapat dilihat bahwa model mampu memprediksi data dengan tingkat akurasi `sempurna 100%`, dengan detail prediksi Churn yang sebenarnya Churn adalah 1707, prediksi tidak Churn yang sebenarnya tidak Churn adalah 1713, prediksi tidak Churn yang sebenarnya Churn adalah 0 dan prediksi churn yang sebenarnya tidak churn adalah 0."
   ]
  },
  {
   "cell_type": "code",
   "execution_count": 67,
   "id": "f4e415f5",
   "metadata": {},
   "outputs": [],
   "source": [
    "# Part 3: Model performance in data test"
   ]
  },
  {
   "cell_type": "code",
   "execution_count": 68,
   "id": "a07f4033",
   "metadata": {},
   "outputs": [
    {
     "name": "stdout",
     "output_type": "stream",
     "text": [
      "Classification Report Testing Model (Random Forest):\n",
      "              precision    recall  f1-score   support\n",
      "\n",
      "           0       0.99      0.94      0.96      1137\n",
      "           1       0.95      0.99      0.97      1143\n",
      "\n",
      "    accuracy                           0.97      2280\n",
      "   macro avg       0.97      0.97      0.97      2280\n",
      "weighted avg       0.97      0.97      0.97      2280\n",
      "\n"
     ]
    }
   ],
   "source": [
    "# Menampilkan hasil testing model dengan confusion matrix\n",
    "# Predict\n",
    "y2_test_pred = rdf_model.predict(X2_test)\n",
    "# Print classification report\n",
    "print('Classification Report Testing Model (Random Forest):')\n",
    "print(classification_report(y2_test, y2_test_pred))"
   ]
  },
  {
   "cell_type": "code",
   "execution_count": 69,
   "id": "d2d9de2d",
   "metadata": {
    "scrolled": true
   },
   "outputs": [
    {
     "data": {
      "image/png": "[encoded data removed]",
      "text/plain": [
       "<Figure size 432x288 with 2 Axes>"
      ]
     },
     "metadata": {
      "needs_background": "light"
     },
     "output_type": "display_data"
    }
   ],
   "source": [
    "# Menampilkan hasil testing model dengan visualisasi heatmap dari confusion matrix \n",
    "confusion_matrix_df = pd.DataFrame((confusion_matrix(y2_test, y2_test_pred)), ('No churn', 'Churn'), ('No churn', 'Churn'))\n",
    "\n",
    "# Plot confusion matrix\n",
    "plt.figure()\n",
    "heatmap = sns.heatmap(confusion_matrix_df, annot=True, annot_kws={'size': 14}, fmt='d', cmap='YlGnBu')\n",
    "heatmap.yaxis.set_ticklabels(heatmap.yaxis.get_ticklabels(), rotation=0, ha='right', fontsize=14)\n",
    "heatmap.xaxis.set_ticklabels(heatmap.xaxis.get_ticklabels(), rotation=0, ha='right', fontsize=14)\n",
    "\n",
    "plt.title('Confusion Matrix untuk Testing Model\\n(Random Forest)\\n', fontsize=18, color='darkblue')\n",
    "plt.ylabel('True label', fontsize=14)\n",
    "plt.xlabel('Predicted label', fontsize=14)\n",
    "plt.show()"
   ]
  },
  {
   "cell_type": "markdown",
   "id": "c6d5caf5",
   "metadata": {},
   "source": [
    "Dari data training dapat dilihat bahwa model mampu memprediksi data dengan tingkat akurasi `sebesar 97%`, dengan detail prediksi Churn yang sebenarnya Churn adalah 1129, prediksi tidak Churn yang sebenarnya tidak Churn adalah 1072, prediksi tidak Churn yang sebenarnya Churn adalah 14 dan prediksi churn yang sebenarnya tidak churn adalah 65."
   ]
  },
  {
   "cell_type": "markdown",
   "id": "c4756dd9",
   "metadata": {},
   "source": [
    "### 5.4 Model machine learning yang akan digunakan yaitu XGBoost."
   ]
  },
  {
   "cell_type": "code",
   "execution_count": 70,
   "id": "e9b14c5f",
   "metadata": {},
   "outputs": [],
   "source": [
    "# Part 1: Import all package & create function for modelling"
   ]
  },
  {
   "cell_type": "code",
   "execution_count": 71,
   "id": "f5d759d8",
   "metadata": {},
   "outputs": [
    {
     "name": "stdout",
     "output_type": "stream",
     "text": [
      "GradientBoostingClassifier()\n"
     ]
    }
   ],
   "source": [
    "from sklearn.ensemble import GradientBoostingClassifier\n",
    "#Latih model dengan GradientBoostingClassifier()\n",
    "gbt_model = GradientBoostingClassifier().fit(X2_train, y2_train)\n",
    "print(gbt_model)"
   ]
  },
  {
   "cell_type": "code",
   "execution_count": 72,
   "id": "d476d018",
   "metadata": {},
   "outputs": [],
   "source": [
    "# Part 2: Model performance in data traim"
   ]
  },
  {
   "cell_type": "code",
   "execution_count": 73,
   "id": "d337a62e",
   "metadata": {},
   "outputs": [
    {
     "name": "stdout",
     "output_type": "stream",
     "text": [
      "Classification Report Training Model (Gradien Boosting) :\n",
      "              precision    recall  f1-score   support\n",
      "\n",
      "           0       0.90      0.93      0.91      1713\n",
      "           1       0.93      0.89      0.91      1707\n",
      "\n",
      "    accuracy                           0.91      3420\n",
      "   macro avg       0.91      0.91      0.91      3420\n",
      "weighted avg       0.91      0.91      0.91      3420\n",
      "\n"
     ]
    }
   ],
   "source": [
    "# Menampilkan hasil training dengan confusion matrix\n",
    "from sklearn.metrics import classification_report\n",
    "# Predict\n",
    "y2_train_pred = gbt_model.predict(X2_train)\n",
    "# Print classification report \n",
    "print('Classification Report Training Model (Gradien Boosting) :')\n",
    "print(classification_report(y2_train, y2_train_pred))"
   ]
  },
  {
   "cell_type": "code",
   "execution_count": 74,
   "id": "73564674",
   "metadata": {},
   "outputs": [
    {
     "data": {
      "image/png": "[encoded data removed]",
      "text/plain": [
       "<Figure size 432x288 with 2 Axes>"
      ]
     },
     "metadata": {
      "needs_background": "light"
     },
     "output_type": "display_data"
    }
   ],
   "source": [
    "# Menampilkan hasil training model dengan visualisasi heatmap dari confusion matrix \n",
    "confusion_matrix_df = pd.DataFrame((confusion_matrix(y2_train, y2_train_pred)), ('No churn', 'Churn'), ('No churn', 'Churn'))\n",
    "\n",
    "# Plot confusion matrix\n",
    "plt.figure()\n",
    "heatmap = sns.heatmap(confusion_matrix_df, annot=True, annot_kws={'size': 14}, fmt='d', cmap='YlGnBu')\n",
    "heatmap.yaxis.set_ticklabels(heatmap.yaxis.get_ticklabels(), rotation=0, ha='right', fontsize=14)\n",
    "heatmap.xaxis.set_ticklabels(heatmap.xaxis.get_ticklabels(), rotation=0, ha='right', fontsize=14)\n",
    "\n",
    "plt.title('Confusion Matrix untuk Training Model\\n(Gradient Boosting)', fontsize=18, color='darkblue')\n",
    "plt.ylabel('True label', fontsize=14)\n",
    "plt.xlabel('Predicted label', fontsize=14)\n",
    "plt.show()"
   ]
  },
  {
   "cell_type": "markdown",
   "id": "3e6661b1",
   "metadata": {},
   "source": [
    "Dari data training dapat dilihat bahwa model mampu memprediksi data dengan tingkat akurasi `sebesar 91%`, dengan detail prediksi Churn yang sebenarnya Churn adalah 1521, prediksi tidak Churn yang sebenarnya tidak Churn adalah 1594, prediksi tidak Churn yang sebenarnya Churn adalah 186 dan prediksi churn yang sebenarnya tidak churn adalah 119."
   ]
  },
  {
   "cell_type": "code",
   "execution_count": 75,
   "id": "8434c506",
   "metadata": {},
   "outputs": [],
   "source": [
    "# Part 3: Model performance in data test"
   ]
  },
  {
   "cell_type": "code",
   "execution_count": 76,
   "id": "b6608ce7",
   "metadata": {},
   "outputs": [
    {
     "name": "stdout",
     "output_type": "stream",
     "text": [
      "Classification Report Testing Model (Gradient Boosting):\n",
      "              precision    recall  f1-score   support\n",
      "\n",
      "           0       0.89      0.89      0.89      1137\n",
      "           1       0.89      0.89      0.89      1143\n",
      "\n",
      "    accuracy                           0.89      2280\n",
      "   macro avg       0.89      0.89      0.89      2280\n",
      "weighted avg       0.89      0.89      0.89      2280\n",
      "\n"
     ]
    }
   ],
   "source": [
    "# Menampilkan hasil testing model dengan confusion matrix\n",
    "# Predict\n",
    "y2_test_pred = gbt_model.predict(X2_test) \n",
    "# Print classification report \n",
    "print('Classification Report Testing Model (Gradient Boosting):')\n",
    "print(classification_report(y2_test, y2_test_pred))"
   ]
  },
  {
   "cell_type": "code",
   "execution_count": 77,
   "id": "69060ce1",
   "metadata": {},
   "outputs": [
    {
     "data": {
      "image/png": "[encoded data removed]",
      "text/plain": [
       "<Figure size 432x288 with 2 Axes>"
      ]
     },
     "metadata": {
      "needs_background": "light"
     },
     "output_type": "display_data"
    }
   ],
   "source": [
    "# Menampilkan hasil testing model dengan visualisasi heatmap dari confusion matrix \n",
    "confusion_matrix_df = pd.DataFrame((confusion_matrix(y2_test, y2_test_pred)), ('No churn', 'Churn'), ('No churn', 'Churn'))\n",
    "\n",
    "# Plot confusion matrix\n",
    "plt.figure()\n",
    "heatmap = sns.heatmap(confusion_matrix_df, annot=True, annot_kws={'size': 14}, fmt='d', cmap='YlGnBu')\n",
    "heatmap.yaxis.set_ticklabels(heatmap.yaxis.get_ticklabels(), rotation=0, ha='right', fontsize=14)\n",
    "heatmap.xaxis.set_ticklabels(heatmap.xaxis.get_ticklabels(), rotation=0, ha='right', fontsize=14)\n",
    "\n",
    "plt.title('Confusion Matrix untuk Testing Model\\n(Gradient Boosting)\\n', fontsize=18, color='darkblue')\n",
    "plt.ylabel('True label', fontsize=14)\n",
    "plt.xlabel('Predicted label', fontsize=14)\n",
    "plt.show()"
   ]
  },
  {
   "cell_type": "markdown",
   "id": "3a64b53f",
   "metadata": {},
   "source": [
    "Dari data training dapat dilihat bahwa model mampu memprediksi data dengan tingkat akurasi `sebesar 89%`, dengan detail prediksi Churn yang sebenarnya Churn adalah 1019, prediksi tidak Churn yang sebenarnya tidak Churn adalah 1017, prediksi tidak Churn yang sebenarnya Churn adalah 124 dan prediksi churn yang sebenarnya tidak churn adalah 120."
   ]
  },
  {
   "cell_type": "markdown",
   "id": "6a3db063",
   "metadata": {},
   "source": [
    "## 6) Hyperparameter Tuning"
   ]
  },
  {
   "cell_type": "code",
   "execution_count": 78,
   "id": "ecaa0828",
   "metadata": {},
   "outputs": [],
   "source": [
    "rf = RandomForestClassifier(random_state=42, n_jobs=-1)"
   ]
  },
  {
   "cell_type": "code",
   "execution_count": 79,
   "id": "3e668fa0",
   "metadata": {},
   "outputs": [
    {
     "name": "stdout",
     "output_type": "stream",
     "text": [
      "Parameters currently in use:\n",
      "\n",
      "{'bootstrap': True, 'ccp_alpha': 0.0, 'class_weight': None, 'criterion': 'gini', 'max_depth': None, 'max_features': 'sqrt', 'max_leaf_nodes': None, 'max_samples': None, 'min_impurity_decrease': 0.0, 'min_samples_leaf': 1, 'min_samples_split': 2, 'min_weight_fraction_leaf': 0.0, 'n_estimators': 100, 'n_jobs': None, 'oob_score': False, 'random_state': 42, 'verbose': 0, 'warm_start': False}\n"
     ]
    }
   ],
   "source": [
    "from sklearn.ensemble import RandomForestClassifier\n",
    "rf = RandomForestClassifier(random_state = 42)\n",
    "from pprint import pprint\n",
    "# Look at parameters used by our current forest\n",
    "print('Parameters currently in use:\\n')\n",
    "print(rf.get_params())"
   ]
  },
  {
   "cell_type": "code",
   "execution_count": 80,
   "id": "e527d780",
   "metadata": {},
   "outputs": [
    {
     "name": "stdout",
     "output_type": "stream",
     "text": [
      "{'n_estimators': [200, 400, 600, 800, 1000, 1200, 1400, 1600, 1800, 2000], 'max_features': ['auto', 'sqrt'], 'max_depth': [10, 20, 30, 40, 50, 60, 70, 80, 90, 100, 110, None], 'min_samples_split': [2, 5, 10], 'min_samples_leaf': [1, 2, 4], 'bootstrap': [True, False]}\n"
     ]
    }
   ],
   "source": [
    "from sklearn.model_selection import RandomizedSearchCV\n",
    "# Number of trees in random forest\n",
    "n_estimators = [int(x) for x in np.linspace(start = 200, stop = 2000, num = 10)]\n",
    "# Number of features to consider at every split\n",
    "max_features = ['auto', 'sqrt']\n",
    "# Maximum number of levels in tree\n",
    "max_depth = [int(x) for x in np.linspace(10, 110, num = 11)]\n",
    "max_depth.append(None)\n",
    "# Minimum number of samples required to split a node\n",
    "min_samples_split = [2, 5, 10]\n",
    "# Minimum number of samples required at each leaf node\n",
    "min_samples_leaf = [1, 2, 4]\n",
    "# Method of selecting samples for training each tree\n",
    "bootstrap = [True, False]\n",
    "# Create the random grid\n",
    "random_grid = {'n_estimators': n_estimators,\n",
    "               'max_features': max_features,\n",
    "               'max_depth': max_depth,\n",
    "               'min_samples_split': min_samples_split,\n",
    "               'min_samples_leaf': min_samples_leaf,\n",
    "               'bootstrap': bootstrap}\n",
    "print(random_grid)"
   ]
  },
  {
   "cell_type": "code",
   "execution_count": 81,
   "id": "903686e2",
   "metadata": {},
   "outputs": [],
   "source": [
    "params = {\n",
    "    'max_depth': [2,3,5,10,18,19,20,21,22,23,24,25,26,27,28,29,30,31,32,33,34,35,36,37,38,39,40,41,42],\n",
    "    'min_samples_leaf': [1,5,10,15],\n",
    "    'n_estimators': [20,30,50,100,200,300],\n",
    "    'bootstrap' : [True, False]\n",
    "}"
   ]
  },
  {
   "cell_type": "code",
   "execution_count": 82,
   "id": "d2191446",
   "metadata": {},
   "outputs": [
    {
     "name": "stdout",
     "output_type": "stream",
     "text": [
      "Fitting 4 folds for each of 1392 candidates, totalling 5568 fits\n"
     ]
    },
    {
     "data": {
      "text/html": [
       "<style>#sk-container-id-2 {color: black;background-color: white;}#sk-container-id-2 pre{padding: 0;}#sk-container-id-2 div.sk-toggleable {background-color: white;}#sk-container-id-2 label.sk-toggleable__label {cursor: pointer;display: block;width: 100%;margin-bottom: 0;padding: 0.3em;box-sizing: border-box;text-align: center;}#sk-container-id-2 label.sk-toggleable__label-arrow:before {content: \"▸\";float: left;margin-right: 0.25em;color: #696969;}#sk-container-id-2 label.sk-toggleable__label-arrow:hover:before {color: black;}#sk-container-id-2 div.sk-estimator:hover label.sk-toggleable__label-arrow:before {color: black;}#sk-container-id-2 div.sk-toggleable__content {max-height: 0;max-width: 0;overflow: hidden;text-align: left;background-color: #f0f8ff;}#sk-container-id-2 div.sk-toggleable__content pre {margin: 0.2em;color: black;border-radius: 0.25em;background-color: #f0f8ff;}#sk-container-id-2 input.sk-toggleable__control:checked~div.sk-toggleable__content {max-height: 200px;max-width: 100%;overflow: auto;}#sk-container-id-2 input.sk-toggleable__control:checked~label.sk-toggleable__label-arrow:before {content: \"▾\";}#sk-container-id-2 div.sk-estimator input.sk-toggleable__control:checked~label.sk-toggleable__label {background-color: #d4ebff;}#sk-container-id-2 div.sk-label input.sk-toggleable__control:checked~label.sk-toggleable__label {background-color: #d4ebff;}#sk-container-id-2 input.sk-hidden--visually {border: 0;clip: rect(1px 1px 1px 1px);clip: rect(1px, 1px, 1px, 1px);height: 1px;margin: -1px;overflow: hidden;padding: 0;position: absolute;width: 1px;}#sk-container-id-2 div.sk-estimator {font-family: monospace;background-color: #f0f8ff;border: 1px dotted black;border-radius: 0.25em;box-sizing: border-box;margin-bottom: 0.5em;}#sk-container-id-2 div.sk-estimator:hover {background-color: #d4ebff;}#sk-container-id-2 div.sk-parallel-item::after {content: \"\";width: 100%;border-bottom: 1px solid gray;flex-grow: 1;}#sk-container-id-2 div.sk-label:hover label.sk-toggleable__label {background-color: #d4ebff;}#sk-container-id-2 div.sk-serial::before {content: \"\";position: absolute;border-left: 1px solid gray;box-sizing: border-box;top: 0;bottom: 0;left: 50%;z-index: 0;}#sk-container-id-2 div.sk-serial {display: flex;flex-direction: column;align-items: center;background-color: white;padding-right: 0.2em;padding-left: 0.2em;position: relative;}#sk-container-id-2 div.sk-item {position: relative;z-index: 1;}#sk-container-id-2 div.sk-parallel {display: flex;align-items: stretch;justify-content: center;background-color: white;position: relative;}#sk-container-id-2 div.sk-item::before, #sk-container-id-2 div.sk-parallel-item::before {content: \"\";position: absolute;border-left: 1px solid gray;box-sizing: border-box;top: 0;bottom: 0;left: 50%;z-index: -1;}#sk-container-id-2 div.sk-parallel-item {display: flex;flex-direction: column;z-index: 1;position: relative;background-color: white;}#sk-container-id-2 div.sk-parallel-item:first-child::after {align-self: flex-end;width: 50%;}#sk-container-id-2 div.sk-parallel-item:last-child::after {align-self: flex-start;width: 50%;}#sk-container-id-2 div.sk-parallel-item:only-child::after {width: 0;}#sk-container-id-2 div.sk-dashed-wrapped {border: 1px dashed gray;margin: 0 0.4em 0.5em 0.4em;box-sizing: border-box;padding-bottom: 0.4em;background-color: white;}#sk-container-id-2 div.sk-label label {font-family: monospace;font-weight: bold;display: inline-block;line-height: 1.2em;}#sk-container-id-2 div.sk-label-container {text-align: center;}#sk-container-id-2 div.sk-container {/* jupyter's `normalize.less` sets `[hidden] { display: none; }` but bootstrap.min.css set `[hidden] { display: none !important; }` so we also need the `!important` here to be able to override the default hidden behavior on the sphinx rendered scikit-learn.org. See: https://github.com/scikit-learn/scikit-learn/issues/21755 */display: inline-block !important;position: relative;}#sk-container-id-2 div.sk-text-repr-fallback {display: none;}</style><div id=\"sk-container-id-2\" class=\"sk-top-container\"><div class=\"sk-text-repr-fallback\"><pre>GridSearchCV(cv=4, estimator=RandomForestClassifier(random_state=42), n_jobs=-1,\n",
       "             param_grid={&#x27;bootstrap&#x27;: [True, False],\n",
       "                         &#x27;max_depth&#x27;: [2, 3, 5, 10, 18, 19, 20, 21, 22, 23, 24,\n",
       "                                       25, 26, 27, 28, 29, 30, 31, 32, 33, 34,\n",
       "                                       35, 36, 37, 38, 39, 40, 41, 42],\n",
       "                         &#x27;min_samples_leaf&#x27;: [1, 5, 10, 15],\n",
       "                         &#x27;n_estimators&#x27;: [20, 30, 50, 100, 200, 300]},\n",
       "             scoring=&#x27;accuracy&#x27;, verbose=1)</pre><b>In a Jupyter environment, please rerun this cell to show the HTML representation or trust the notebook. <br />On GitHub, the HTML representation is unable to render, please try loading this page with nbviewer.org.</b></div><div class=\"sk-container\" hidden><div class=\"sk-item sk-dashed-wrapped\"><div class=\"sk-label-container\"><div class=\"sk-label sk-toggleable\"><input class=\"sk-toggleable__control sk-hidden--visually\" id=\"sk-estimator-id-2\" type=\"checkbox\" ><label for=\"sk-estimator-id-2\" class=\"sk-toggleable__label sk-toggleable__label-arrow\">GridSearchCV</label><div class=\"sk-toggleable__content\"><pre>GridSearchCV(cv=4, estimator=RandomForestClassifier(random_state=42), n_jobs=-1,\n",
       "             param_grid={&#x27;bootstrap&#x27;: [True, False],\n",
       "                         &#x27;max_depth&#x27;: [2, 3, 5, 10, 18, 19, 20, 21, 22, 23, 24,\n",
       "                                       25, 26, 27, 28, 29, 30, 31, 32, 33, 34,\n",
       "                                       35, 36, 37, 38, 39, 40, 41, 42],\n",
       "                         &#x27;min_samples_leaf&#x27;: [1, 5, 10, 15],\n",
       "                         &#x27;n_estimators&#x27;: [20, 30, 50, 100, 200, 300]},\n",
       "             scoring=&#x27;accuracy&#x27;, verbose=1)</pre></div></div></div><div class=\"sk-parallel\"><div class=\"sk-parallel-item\"><div class=\"sk-item\"><div class=\"sk-label-container\"><div class=\"sk-label sk-toggleable\"><input class=\"sk-toggleable__control sk-hidden--visually\" id=\"sk-estimator-id-3\" type=\"checkbox\" ><label for=\"sk-estimator-id-3\" class=\"sk-toggleable__label sk-toggleable__label-arrow\">estimator: RandomForestClassifier</label><div class=\"sk-toggleable__content\"><pre>RandomForestClassifier(random_state=42)</pre></div></div></div><div class=\"sk-serial\"><div class=\"sk-item\"><div class=\"sk-estimator sk-toggleable\"><input class=\"sk-toggleable__control sk-hidden--visually\" id=\"sk-estimator-id-4\" type=\"checkbox\" ><label for=\"sk-estimator-id-4\" class=\"sk-toggleable__label sk-toggleable__label-arrow\">RandomForestClassifier</label><div class=\"sk-toggleable__content\"><pre>RandomForestClassifier(random_state=42)</pre></div></div></div></div></div></div></div></div></div></div>"
      ],
      "text/plain": [
       "GridSearchCV(cv=4, estimator=RandomForestClassifier(random_state=42), n_jobs=-1,\n",
       "             param_grid={'bootstrap': [True, False],\n",
       "                         'max_depth': [2, 3, 5, 10, 18, 19, 20, 21, 22, 23, 24,\n",
       "                                       25, 26, 27, 28, 29, 30, 31, 32, 33, 34,\n",
       "                                       35, 36, 37, 38, 39, 40, 41, 42],\n",
       "                         'min_samples_leaf': [1, 5, 10, 15],\n",
       "                         'n_estimators': [20, 30, 50, 100, 200, 300]},\n",
       "             scoring='accuracy', verbose=1)"
      ]
     },
     "execution_count": 82,
     "metadata": {},
     "output_type": "execute_result"
    }
   ],
   "source": [
    "from sklearn.model_selection import GridSearchCV\n",
    "\n",
    "# Instantiate the grid search model\n",
    "grid_search = GridSearchCV(estimator=rf,\n",
    "                           param_grid=params,\n",
    "                           cv = 4,\n",
    "                           n_jobs=-1, verbose=1, scoring=\"accuracy\")\n",
    "\n",
    "grid_search.fit(X2_train, y2_train)"
   ]
  },
  {
   "cell_type": "code",
   "execution_count": 83,
   "id": "5dbc8007",
   "metadata": {},
   "outputs": [
    {
     "data": {
      "text/plain": [
       "0.9695906432748538"
      ]
     },
     "execution_count": 83,
     "metadata": {},
     "output_type": "execute_result"
    }
   ],
   "source": [
    "grid_search.best_score_"
   ]
  },
  {
   "cell_type": "code",
   "execution_count": 94,
   "id": "b687a1de",
   "metadata": {
    "scrolled": true
   },
   "outputs": [
    {
     "data": {
      "text/html": [
       "<style>#sk-container-id-5 {color: black;background-color: white;}#sk-container-id-5 pre{padding: 0;}#sk-container-id-5 div.sk-toggleable {background-color: white;}#sk-container-id-5 label.sk-toggleable__label {cursor: pointer;display: block;width: 100%;margin-bottom: 0;padding: 0.3em;box-sizing: border-box;text-align: center;}#sk-container-id-5 label.sk-toggleable__label-arrow:before {content: \"▸\";float: left;margin-right: 0.25em;color: #696969;}#sk-container-id-5 label.sk-toggleable__label-arrow:hover:before {color: black;}#sk-container-id-5 div.sk-estimator:hover label.sk-toggleable__label-arrow:before {color: black;}#sk-container-id-5 div.sk-toggleable__content {max-height: 0;max-width: 0;overflow: hidden;text-align: left;background-color: #f0f8ff;}#sk-container-id-5 div.sk-toggleable__content pre {margin: 0.2em;color: black;border-radius: 0.25em;background-color: #f0f8ff;}#sk-container-id-5 input.sk-toggleable__control:checked~div.sk-toggleable__content {max-height: 200px;max-width: 100%;overflow: auto;}#sk-container-id-5 input.sk-toggleable__control:checked~label.sk-toggleable__label-arrow:before {content: \"▾\";}#sk-container-id-5 div.sk-estimator input.sk-toggleable__control:checked~label.sk-toggleable__label {background-color: #d4ebff;}#sk-container-id-5 div.sk-label input.sk-toggleable__control:checked~label.sk-toggleable__label {background-color: #d4ebff;}#sk-container-id-5 input.sk-hidden--visually {border: 0;clip: rect(1px 1px 1px 1px);clip: rect(1px, 1px, 1px, 1px);height: 1px;margin: -1px;overflow: hidden;padding: 0;position: absolute;width: 1px;}#sk-container-id-5 div.sk-estimator {font-family: monospace;background-color: #f0f8ff;border: 1px dotted black;border-radius: 0.25em;box-sizing: border-box;margin-bottom: 0.5em;}#sk-container-id-5 div.sk-estimator:hover {background-color: #d4ebff;}#sk-container-id-5 div.sk-parallel-item::after {content: \"\";width: 100%;border-bottom: 1px solid gray;flex-grow: 1;}#sk-container-id-5 div.sk-label:hover label.sk-toggleable__label {background-color: #d4ebff;}#sk-container-id-5 div.sk-serial::before {content: \"\";position: absolute;border-left: 1px solid gray;box-sizing: border-box;top: 0;bottom: 0;left: 50%;z-index: 0;}#sk-container-id-5 div.sk-serial {display: flex;flex-direction: column;align-items: center;background-color: white;padding-right: 0.2em;padding-left: 0.2em;position: relative;}#sk-container-id-5 div.sk-item {position: relative;z-index: 1;}#sk-container-id-5 div.sk-parallel {display: flex;align-items: stretch;justify-content: center;background-color: white;position: relative;}#sk-container-id-5 div.sk-item::before, #sk-container-id-5 div.sk-parallel-item::before {content: \"\";position: absolute;border-left: 1px solid gray;box-sizing: border-box;top: 0;bottom: 0;left: 50%;z-index: -1;}#sk-container-id-5 div.sk-parallel-item {display: flex;flex-direction: column;z-index: 1;position: relative;background-color: white;}#sk-container-id-5 div.sk-parallel-item:first-child::after {align-self: flex-end;width: 50%;}#sk-container-id-5 div.sk-parallel-item:last-child::after {align-self: flex-start;width: 50%;}#sk-container-id-5 div.sk-parallel-item:only-child::after {width: 0;}#sk-container-id-5 div.sk-dashed-wrapped {border: 1px dashed gray;margin: 0 0.4em 0.5em 0.4em;box-sizing: border-box;padding-bottom: 0.4em;background-color: white;}#sk-container-id-5 div.sk-label label {font-family: monospace;font-weight: bold;display: inline-block;line-height: 1.2em;}#sk-container-id-5 div.sk-label-container {text-align: center;}#sk-container-id-5 div.sk-container {/* jupyter's `normalize.less` sets `[hidden] { display: none; }` but bootstrap.min.css set `[hidden] { display: none !important; }` so we also need the `!important` here to be able to override the default hidden behavior on the sphinx rendered scikit-learn.org. See: https://github.com/scikit-learn/scikit-learn/issues/21755 */display: inline-block !important;position: relative;}#sk-container-id-5 div.sk-text-repr-fallback {display: none;}</style><div id=\"sk-container-id-5\" class=\"sk-top-container\"><div class=\"sk-text-repr-fallback\"><pre>RandomForestClassifier(bootstrap=False, max_depth=24, n_estimators=20,\n",
       "                       random_state=42)</pre><b>In a Jupyter environment, please rerun this cell to show the HTML representation or trust the notebook. <br />On GitHub, the HTML representation is unable to render, please try loading this page with nbviewer.org.</b></div><div class=\"sk-container\" hidden><div class=\"sk-item\"><div class=\"sk-estimator sk-toggleable\"><input class=\"sk-toggleable__control sk-hidden--visually\" id=\"sk-estimator-id-7\" type=\"checkbox\" checked><label for=\"sk-estimator-id-7\" class=\"sk-toggleable__label sk-toggleable__label-arrow\">RandomForestClassifier</label><div class=\"sk-toggleable__content\"><pre>RandomForestClassifier(bootstrap=False, max_depth=24, n_estimators=20,\n",
       "                       random_state=42)</pre></div></div></div></div></div>"
      ],
      "text/plain": [
       "RandomForestClassifier(bootstrap=False, max_depth=24, n_estimators=20,\n",
       "                       random_state=42)"
      ]
     },
     "execution_count": 94,
     "metadata": {},
     "output_type": "execute_result"
    }
   ],
   "source": [
    "rf_best = grid_search.best_estimator_\n",
    "rf_best.fit(X2_train, y2_train)"
   ]
  },
  {
   "cell_type": "code",
   "execution_count": 95,
   "id": "2849be1e",
   "metadata": {},
   "outputs": [
    {
     "data": {
      "text/html": [
       "<style>#sk-container-id-6 {color: black;background-color: white;}#sk-container-id-6 pre{padding: 0;}#sk-container-id-6 div.sk-toggleable {background-color: white;}#sk-container-id-6 label.sk-toggleable__label {cursor: pointer;display: block;width: 100%;margin-bottom: 0;padding: 0.3em;box-sizing: border-box;text-align: center;}#sk-container-id-6 label.sk-toggleable__label-arrow:before {content: \"▸\";float: left;margin-right: 0.25em;color: #696969;}#sk-container-id-6 label.sk-toggleable__label-arrow:hover:before {color: black;}#sk-container-id-6 div.sk-estimator:hover label.sk-toggleable__label-arrow:before {color: black;}#sk-container-id-6 div.sk-toggleable__content {max-height: 0;max-width: 0;overflow: hidden;text-align: left;background-color: #f0f8ff;}#sk-container-id-6 div.sk-toggleable__content pre {margin: 0.2em;color: black;border-radius: 0.25em;background-color: #f0f8ff;}#sk-container-id-6 input.sk-toggleable__control:checked~div.sk-toggleable__content {max-height: 200px;max-width: 100%;overflow: auto;}#sk-container-id-6 input.sk-toggleable__control:checked~label.sk-toggleable__label-arrow:before {content: \"▾\";}#sk-container-id-6 div.sk-estimator input.sk-toggleable__control:checked~label.sk-toggleable__label {background-color: #d4ebff;}#sk-container-id-6 div.sk-label input.sk-toggleable__control:checked~label.sk-toggleable__label {background-color: #d4ebff;}#sk-container-id-6 input.sk-hidden--visually {border: 0;clip: rect(1px 1px 1px 1px);clip: rect(1px, 1px, 1px, 1px);height: 1px;margin: -1px;overflow: hidden;padding: 0;position: absolute;width: 1px;}#sk-container-id-6 div.sk-estimator {font-family: monospace;background-color: #f0f8ff;border: 1px dotted black;border-radius: 0.25em;box-sizing: border-box;margin-bottom: 0.5em;}#sk-container-id-6 div.sk-estimator:hover {background-color: #d4ebff;}#sk-container-id-6 div.sk-parallel-item::after {content: \"\";width: 100%;border-bottom: 1px solid gray;flex-grow: 1;}#sk-container-id-6 div.sk-label:hover label.sk-toggleable__label {background-color: #d4ebff;}#sk-container-id-6 div.sk-serial::before {content: \"\";position: absolute;border-left: 1px solid gray;box-sizing: border-box;top: 0;bottom: 0;left: 50%;z-index: 0;}#sk-container-id-6 div.sk-serial {display: flex;flex-direction: column;align-items: center;background-color: white;padding-right: 0.2em;padding-left: 0.2em;position: relative;}#sk-container-id-6 div.sk-item {position: relative;z-index: 1;}#sk-container-id-6 div.sk-parallel {display: flex;align-items: stretch;justify-content: center;background-color: white;position: relative;}#sk-container-id-6 div.sk-item::before, #sk-container-id-6 div.sk-parallel-item::before {content: \"\";position: absolute;border-left: 1px solid gray;box-sizing: border-box;top: 0;bottom: 0;left: 50%;z-index: -1;}#sk-container-id-6 div.sk-parallel-item {display: flex;flex-direction: column;z-index: 1;position: relative;background-color: white;}#sk-container-id-6 div.sk-parallel-item:first-child::after {align-self: flex-end;width: 50%;}#sk-container-id-6 div.sk-parallel-item:last-child::after {align-self: flex-start;width: 50%;}#sk-container-id-6 div.sk-parallel-item:only-child::after {width: 0;}#sk-container-id-6 div.sk-dashed-wrapped {border: 1px dashed gray;margin: 0 0.4em 0.5em 0.4em;box-sizing: border-box;padding-bottom: 0.4em;background-color: white;}#sk-container-id-6 div.sk-label label {font-family: monospace;font-weight: bold;display: inline-block;line-height: 1.2em;}#sk-container-id-6 div.sk-label-container {text-align: center;}#sk-container-id-6 div.sk-container {/* jupyter's `normalize.less` sets `[hidden] { display: none; }` but bootstrap.min.css set `[hidden] { display: none !important; }` so we also need the `!important` here to be able to override the default hidden behavior on the sphinx rendered scikit-learn.org. See: https://github.com/scikit-learn/scikit-learn/issues/21755 */display: inline-block !important;position: relative;}#sk-container-id-6 div.sk-text-repr-fallback {display: none;}</style><div id=\"sk-container-id-6\" class=\"sk-top-container\"><div class=\"sk-text-repr-fallback\"><pre>RandomForestClassifier(random_state=42)</pre><b>In a Jupyter environment, please rerun this cell to show the HTML representation or trust the notebook. <br />On GitHub, the HTML representation is unable to render, please try loading this page with nbviewer.org.</b></div><div class=\"sk-container\" hidden><div class=\"sk-item\"><div class=\"sk-estimator sk-toggleable\"><input class=\"sk-toggleable__control sk-hidden--visually\" id=\"sk-estimator-id-8\" type=\"checkbox\" checked><label for=\"sk-estimator-id-8\" class=\"sk-toggleable__label sk-toggleable__label-arrow\">RandomForestClassifier</label><div class=\"sk-toggleable__content\"><pre>RandomForestClassifier(random_state=42)</pre></div></div></div></div></div>"
      ],
      "text/plain": [
       "RandomForestClassifier(random_state=42)"
      ]
     },
     "execution_count": 95,
     "metadata": {},
     "output_type": "execute_result"
    }
   ],
   "source": [
    "rf.fit(X2_train, y2_train)"
   ]
  },
  {
   "cell_type": "markdown",
   "id": "e02583cc",
   "metadata": {},
   "source": [
    "## 7) Evaluation Model"
   ]
  },
  {
   "cell_type": "code",
   "execution_count": 96,
   "id": "093c4f0d",
   "metadata": {},
   "outputs": [],
   "source": [
    "y2_log_model = log_model.predict(X2_test)\n",
    "y2_dtree = dtree.predict(X2_test)\n",
    "y2_rf = rf_best.predict(X2_test)\n",
    "y2_gbt_model = gbt_model.predict(X2_test)"
   ]
  },
  {
   "cell_type": "code",
   "execution_count": 97,
   "id": "9ad87f7f",
   "metadata": {},
   "outputs": [
    {
     "name": "stdout",
     "output_type": "stream",
     "text": [
      "0.7521929824561403\n",
      "0.9583333333333334\n",
      "0.9754385964912281\n",
      "0.8929824561403509\n"
     ]
    }
   ],
   "source": [
    "from sklearn.metrics import accuracy_score\n",
    "print(accuracy_score(y2_test, y2_log_model))\n",
    "print(accuracy_score(y2_test, y2_dtree))\n",
    "print(accuracy_score(y2_test, y2_rf))\n",
    "print(accuracy_score(y2_test, y2_gbt_model))"
   ]
  },
  {
   "cell_type": "code",
   "execution_count": 98,
   "id": "d49bfb22",
   "metadata": {},
   "outputs": [
    {
     "name": "stdout",
     "output_type": "stream",
     "text": [
      "0.7522239322816469\n",
      "0.9597983082724182\n",
      "0.9756384841894571\n",
      "0.8929839127300037\n"
     ]
    }
   ],
   "source": [
    "from sklearn.metrics import precision_score\n",
    "print(precision_score(y2_test, y2_log_model, average='macro'))\n",
    "print(precision_score(y2_test, y2_dtree, average='macro'))\n",
    "print(precision_score(y2_test, y2_rf, average='macro'))\n",
    "print(precision_score(y2_test, y2_gbt_model, average='macro'))"
   ]
  },
  {
   "cell_type": "code",
   "execution_count": 99,
   "id": "f4934209",
   "metadata": {},
   "outputs": [
    {
     "name": "stdout",
     "output_type": "stream",
     "text": [
      "0.7522062710498918\n",
      "0.9582603295960037\n",
      "0.9754130337929394\n",
      "0.8929863318536371\n"
     ]
    }
   ],
   "source": [
    "from sklearn.metrics import recall_score\n",
    "print(recall_score(y2_test, y2_log_model, average='macro'))\n",
    "print(recall_score(y2_test, y2_dtree, average='macro'))\n",
    "print(recall_score(y2_test, y2_rf, average='macro'))\n",
    "print(recall_score(y2_test, y2_gbt_model, average='macro'))"
   ]
  },
  {
   "cell_type": "code",
   "execution_count": 100,
   "id": "f422eb32",
   "metadata": {},
   "outputs": [
    {
     "name": "stdout",
     "output_type": "stream",
     "text": [
      "[[861 276]\n",
      " [289 854]]\n",
      "[[1058   79]\n",
      " [  16 1127]]\n",
      "[[1098   39]\n",
      " [  17 1126]]\n",
      "[[1017  120]\n",
      " [ 124 1019]]\n"
     ]
    }
   ],
   "source": [
    "from sklearn.metrics import confusion_matrix\n",
    "print(confusion_matrix(y2_test, y2_log_model))\n",
    "print(confusion_matrix(y2_test, y2_dtree))\n",
    "print(confusion_matrix(y2_test, y2_rf))\n",
    "print(confusion_matrix(y2_test, y2_gbt_model))"
   ]
  },
  {
   "cell_type": "code",
   "execution_count": 101,
   "id": "215d154d",
   "metadata": {
    "scrolled": false
   },
   "outputs": [
    {
     "name": "stdout",
     "output_type": "stream",
     "text": [
      "0.7522062710498919\n",
      "0.9582603295960037\n",
      "0.9754130337929395\n",
      "0.8929863318536371\n"
     ]
    }
   ],
   "source": [
    "from sklearn.metrics import roc_curve, auc\n",
    "fpr, tpr, thresholds = roc_curve(y2_test, y2_log_model, pos_label=1) # pos_label: positive label\n",
    "print(auc(fpr, tpr))\n",
    "fpr, tpr, thresholds = roc_curve(y2_test, y2_dtree, pos_label=1) # pos_label: positive label\n",
    "print(auc(fpr, tpr))\n",
    "fpr, tpr, thresholds = roc_curve(y2_test, y2_rf, pos_label=1) # pos_label: positive label\n",
    "print(auc(fpr, tpr))\n",
    "fpr, tpr, thresholds = roc_curve(y2_test, y2_gbt_model, pos_label=1) # pos_label: positive label\n",
    "print(auc(fpr, tpr))"
   ]
  },
  {
   "cell_type": "code",
   "execution_count": 102,
   "id": "5db7af31",
   "metadata": {},
   "outputs": [
    {
     "name": "stdout",
     "output_type": "stream",
     "text": [
      "              precision    recall  f1-score   support\n",
      "\n",
      "           0       0.75      0.76      0.75      1137\n",
      "           1       0.76      0.75      0.75      1143\n",
      "\n",
      "    accuracy                           0.75      2280\n",
      "   macro avg       0.75      0.75      0.75      2280\n",
      "weighted avg       0.75      0.75      0.75      2280\n",
      "\n",
      "              precision    recall  f1-score   support\n",
      "\n",
      "           0       0.99      0.93      0.96      1137\n",
      "           1       0.93      0.99      0.96      1143\n",
      "\n",
      "    accuracy                           0.96      2280\n",
      "   macro avg       0.96      0.96      0.96      2280\n",
      "weighted avg       0.96      0.96      0.96      2280\n",
      "\n",
      "              precision    recall  f1-score   support\n",
      "\n",
      "           0       0.98      0.97      0.98      1137\n",
      "           1       0.97      0.99      0.98      1143\n",
      "\n",
      "    accuracy                           0.98      2280\n",
      "   macro avg       0.98      0.98      0.98      2280\n",
      "weighted avg       0.98      0.98      0.98      2280\n",
      "\n",
      "              precision    recall  f1-score   support\n",
      "\n",
      "           0       0.89      0.89      0.89      1137\n",
      "           1       0.89      0.89      0.89      1143\n",
      "\n",
      "    accuracy                           0.89      2280\n",
      "   macro avg       0.89      0.89      0.89      2280\n",
      "weighted avg       0.89      0.89      0.89      2280\n",
      "\n"
     ]
    }
   ],
   "source": [
    "from sklearn.metrics import classification_report\n",
    "print(classification_report(y2_test, y2_log_model))\n",
    "print(classification_report(y2_test, y2_dtree))\n",
    "print(classification_report(y2_test, y2_rf))\n",
    "print(classification_report(y2_test, y2_gbt_model))"
   ]
  },
  {
   "cell_type": "markdown",
   "id": "e8d8600a",
   "metadata": {},
   "source": [
    "## Comparison before and after handling imbalance"
   ]
  },
  {
   "cell_type": "markdown",
   "id": "3c93b595",
   "metadata": {},
   "source": [
    "Pada awalnya model `Overfitting`  karena problem imbalance, the model is more biased towards majority class. We apply imbalanced data handling techniques, we use resampling `Oversampling`. We see their accuracy and recall results, the recall value of minority class has also improved. This is a good model compared to the previous one. Recall is great."
   ]
  },
  {
   "cell_type": "code",
   "execution_count": null,
   "id": "59927e42",
   "metadata": {},
   "outputs": [],
   "source": [
    "# Before OverSampling, counts of label churn '1': [483]\n",
    "# Before OverSampling, counts of label churn '0': [2850]\n",
    "\n",
    "# Before OverSampling, the shape of train_X: (1999, 10)\n",
    "# Before OverSampling, the shape of train_y: (1999,)\n",
    "\n",
    "# After OverSampling, counts of label '1': [2850]\n",
    "# After OverSampling, counts of label '0': [2850]\n",
    "\n",
    "# After OverSampling, the shape of train_X: (3420, 10)\n",
    "# After OverSampling, the shape of train_y: (3420,)"
   ]
  },
  {
   "cell_type": "markdown",
   "id": "86ad6832",
   "metadata": {},
   "source": [
    "Conclusion: \n",
    "Model yang baik adalah model yang mampu memberikan performa bagus di fase training dan testing model. Sehingga dapat disimpulkan model yang terbaik dari keempat model di atas adalah model dengan metode `Random Forest`."
   ]
  }
 ],
 "metadata": {
  "kernelspec": {
   "display_name": "Python 3 (ipykernel)",
   "language": "python",
   "name": "python3"
  },
  "language_info": {
   "codemirror_mode": {
    "name": "ipython",
    "version": 3
   },
   "file_extension": ".py",
   "mimetype": "text/x-python",
   "name": "python",
   "nbconvert_exporter": "python",
   "pygments_lexer": "ipython3",
   "version": "3.9.7"
  }
 },
 "nbformat": 4,
 "nbformat_minor": 5
}
